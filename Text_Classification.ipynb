{
  "cells": [
    {
      "cell_type": "code",
      "execution_count": 1,
      "id": "db94f69e",
      "metadata": {
        "_cell_guid": "b1076dfc-b9ad-4769-8c92-a6c4dae69d19",
        "_uuid": "8f2839f25d086af736a60e9eeb907d3b93b6e0e5",
        "execution": {
          "iopub.execute_input": "2022-03-15T05:15:15.247956Z",
          "iopub.status.busy": "2022-03-15T05:15:15.246921Z",
          "iopub.status.idle": "2022-03-15T05:15:16.234137Z",
          "shell.execute_reply": "2022-03-15T05:15:16.233395Z",
          "shell.execute_reply.started": "2022-03-15T05:12:57.042837Z"
        },
        "papermill": {
          "duration": 1.018891,
          "end_time": "2022-03-15T05:15:16.234290",
          "exception": false,
          "start_time": "2022-03-15T05:15:15.215399",
          "status": "completed"
        },
        "tags": [],
        "id": "db94f69e"
      },
      "outputs": [],
      "source": [
        "import numpy as np \n",
        "import pandas as pd \n",
        "import matplotlib.pyplot as plt\n",
        "import seaborn as sns\n",
        "sns.set_style('darkgrid')"
      ]
    },
    {
      "cell_type": "markdown",
      "id": "8a1d81dc",
      "metadata": {
        "papermill": {
          "duration": 0.030442,
          "end_time": "2022-03-15T05:15:16.367290",
          "exception": false,
          "start_time": "2022-03-15T05:15:16.336848",
          "status": "completed"
        },
        "tags": [],
        "id": "8a1d81dc"
      },
      "source": [
        "\n",
        "# 2. Preparing the data"
      ]
    },
    {
      "cell_type": "code",
      "execution_count": 2,
      "id": "caa736c0",
      "metadata": {
        "execution": {
          "iopub.execute_input": "2022-03-15T05:15:16.431232Z",
          "iopub.status.busy": "2022-03-15T05:15:16.430608Z",
          "iopub.status.idle": "2022-03-15T05:15:17.819178Z",
          "shell.execute_reply": "2022-03-15T05:15:17.818578Z",
          "shell.execute_reply.started": "2022-03-15T05:12:58.096894Z"
        },
        "papermill": {
          "duration": 1.422331,
          "end_time": "2022-03-15T05:15:17.819318",
          "exception": false,
          "start_time": "2022-03-15T05:15:16.396987",
          "status": "completed"
        },
        "tags": [],
        "colab": {
          "base_uri": "https://localhost:8080/",
          "height": 1000
        },
        "id": "caa736c0",
        "outputId": "373d81fc-16a7-4a69-9c0d-56601c792a6e"
      },
      "outputs": [
        {
          "output_type": "execute_result",
          "data": {
            "text/plain": [
              "                                                                                                                                                                                                                                                                                                                                                                                                                                                                                                                                                                                                                                                                                                                                                                                                                                                                                                                                                                                                                                                                                                                                                                                                                                                                                          review  \\\n",
              "\"One of the other reviewers has mentioned that ...  as this is exactly what happened with me.<br /...  which set in right from the word GO. Trust me      this is not a show for the faint hearted or ti...  sex or violence. Its is hardcore                   in the classic use of the word.<br /><br />It ...  an experimental section of the prison where al...  so privacy is not high on the agenda. Em City ...  Muslims                   gangstas                                           Latinos                                            Christians                                         Italians                                           Irish and more....so scuffles                      death stares                                       dodgy dealings and shady agreements are never ...  forget charm                                       forget romance...OZ doesn't mess around. The f...  I couldn't say I was ready for it  but as I watched more  I developed a taste for Oz  and got accustomed to the high levels of graph...  but injustice (crooked guards who'll be sold o...  inmates who'll kill on order and get away with it  well mannered  middle class inmates being turned into prison ...   you may become comfortable with what is uncom...   \n",
              "\"A wonderful little production. <br /><br />The...  and sometimes discomforting                        sense of realism to the entire piece. <br /><b...  not only is it well worth the watching but it ...  rather than use the traditional 'dream' techni...  particularly with the scenes concerning Orton ... positive                                           NaN                                                NaN                       NaN                                                NaN                                                NaN                                                NaN                                                NaN                                                NaN                                                NaN                                                NaN                                                NaN                                                NaN                                NaN                    NaN                         NaN                                                NaN                                                NaN                                                NaN            NaN                                                                                               NaN   \n",
              "\"I thought this was a wonderful way to spend ti...  sitting in the air conditioned theater and wat...  but the dialogue is witty and the characters a...  I thought it was proof that Woody Allen is sti...  in this she managed to tone down her \"\"sexy\"\" ...  but spirited young woman.<br /><br />This may ...  but it was wittier than \"\"Devil Wears Prada\"\" ... positive                                           NaN                       NaN                                                NaN                                                NaN                                                NaN                                                NaN                                                NaN                                                NaN                                                NaN                                                NaN                                                NaN                                NaN                    NaN                         NaN                                                NaN                                                NaN                                                NaN            NaN                                                                                               NaN   \n",
              "\"Basically there's a family where a little boy ...  Jake decides to become Rambo and kill the zomb...  first of all when you're going to make a film ...  and instead i watched a drama with some meanin... negative                                           NaN                                                NaN                                                NaN                                                NaN                       NaN                                                NaN                                                NaN                                                NaN                                                NaN                                                NaN                                                NaN                                                NaN                                                NaN                                                NaN                                NaN                    NaN                         NaN                                                NaN                                                NaN                                                NaN            NaN                                                                                               NaN   \n",
              "\"Petter Mattei's \"\"Love in the Time of Money\"\" ...  power and success do to people in the differen...  the director transfers the action to the prese...  or another to the next person                      but no one seems to know the previous point of...  the film has a sophisticated luxurious look. W...  as one discerns is the case with most of the p...  Rosario Dawson                                     Carol Kane                Michael Imperioli                                  Adrian Grenier                                     and the rest of the talented cast                  make these characters come alive.<br /><br />W... positive                                           NaN                                                NaN                                                NaN                                                NaN                                                NaN                                NaN                    NaN                         NaN                                                NaN                                                NaN                                                NaN            NaN                                                                                               NaN   \n",
              "...                                                                                                                                                                                                                                                                                                                                                                                                                                                                                                                                                                                                                                                                                                                                                                                                                                                                                                                                                                                                                                                                                                                                                                                                                                                                                          ...   \n",
              "\"I have seen The Running Man several times as I...  I intentionally look for films and programs in... positive                                           NaN                                                NaN                                                NaN                                                NaN                                                NaN                                                NaN                       NaN                                                NaN                                                NaN                                                NaN                                                NaN                                                NaN                                                NaN                                                NaN                                                NaN                                                NaN                                NaN                    NaN                         NaN                                                NaN                                                NaN                                                NaN            NaN                                                                                               NaN   \n",
              "\"A stuttering plot                                  uninteresting characters and sub-par (to say t...  in their motives                                   actions or their professed occupations. The pl...  at least                                           wincing. <br /><br />Avoid it like the plague....  dialogue and plot. Yuck.\"                         negative                                           NaN                       NaN                                                NaN                                                NaN                                                NaN                                                NaN                                                NaN                                                NaN                                                NaN                                                NaN                                                NaN                                NaN                    NaN                         NaN                                                NaN                                                NaN                                                NaN            NaN                                                                                               NaN   \n",
              "\"Yes                                                this movie is a real thief. It stole some shin...  but come on                                        this is more clear than the summer sky. Hurt l...  no real plot at all. I really feel myself in t...  only with the exception that those were black ...  you surely have much better movies to choose f... negative                                           NaN                       NaN                                                NaN                                                NaN                                                NaN                                                NaN                                                NaN                                                NaN                                                NaN                                                NaN                                                NaN                                NaN                    NaN                         NaN                                                NaN                                                NaN                                                NaN            NaN                                                                                               NaN   \n",
              "\"Whilst this is most definitely a well crafted ...  it's thoroughly without any entertainment valu...  this film will send you over the edge.<br /><b...  this film will be just one more thing in your ...  BTW)                                               safe in the knowledge that your life is so muc...  and that are in fact in a much worse situation...  much as I wanted to like this movie... I hated...  for no reason whatsoever  looked back at itself and then stopped.<br /><...  at least not one that is conveyed on screen. J...  it's gritty and it's real. It's well made. Lif...  they do well to shout it from the rooftops.<br...  I feel cheated because this movie pretends to ...  that if you just suffer through a little more ...  it'll have something to say. It'll make you st...  I do submit that this is a well crafted film. ...  it's utterly miss-able.\"                          negative                           NaN                    NaN                         NaN                                                NaN                                                NaN                                                NaN            NaN                                                                                               NaN   \n",
              "\"<br /><br />I have to admit to enjoying bad mo... NaN                                                NaN                                                NaN                                                NaN                                                NaN                                                NaN                                                NaN                                                NaN                       NaN                                                NaN                                                NaN                                                NaN                                                NaN                                                NaN                                                NaN                                                NaN                                                NaN                                                NaN                                NaN                    NaN                         NaN                                                NaN                                                NaN                                                NaN            NaN                                                                                               NaN   \n",
              "\n",
              "                                                                                                                                                                                                                                                                                                                                                                                                                                                                                                                                                                                                                                                                                                                                                                                                                                                                                                                                                                                                                                                                                                                                                                                                                                              sentiment  \n",
              "\"One of the other reviewers has mentioned that ...  as this is exactly what happened with me.<br /...  which set in right from the word GO. Trust me      this is not a show for the faint hearted or ti...  sex or violence. Its is hardcore                   in the classic use of the word.<br /><br />It ...  an experimental section of the prison where al...  so privacy is not high on the agenda. Em City ...  Muslims                   gangstas                                           Latinos                                            Christians                                         Italians                                           Irish and more....so scuffles                      death stares                                       dodgy dealings and shady agreements are never ...  forget charm                                       forget romance...OZ doesn't mess around. The f...  I couldn't say I was ready for it  but as I watched more  I developed a taste for Oz  and got accustomed to the high levels of graph...  but injustice (crooked guards who'll be sold o...  inmates who'll kill on order and get away with it  well mannered  middle class inmates being turned into prison ...  positive  \n",
              "\"A wonderful little production. <br /><br />The...  and sometimes discomforting                        sense of realism to the entire piece. <br /><b...  not only is it well worth the watching but it ...  rather than use the traditional 'dream' techni...  particularly with the scenes concerning Orton ... positive                                           NaN                                                NaN                       NaN                                                NaN                                                NaN                                                NaN                                                NaN                                                NaN                                                NaN                                                NaN                                                NaN                                                NaN                                NaN                    NaN                         NaN                                                NaN                                                NaN                                                NaN            NaN                                                      NaN  \n",
              "\"I thought this was a wonderful way to spend ti...  sitting in the air conditioned theater and wat...  but the dialogue is witty and the characters a...  I thought it was proof that Woody Allen is sti...  in this she managed to tone down her \"\"sexy\"\" ...  but spirited young woman.<br /><br />This may ...  but it was wittier than \"\"Devil Wears Prada\"\" ... positive                                           NaN                       NaN                                                NaN                                                NaN                                                NaN                                                NaN                                                NaN                                                NaN                                                NaN                                                NaN                                                NaN                                NaN                    NaN                         NaN                                                NaN                                                NaN                                                NaN            NaN                                                      NaN  \n",
              "\"Basically there's a family where a little boy ...  Jake decides to become Rambo and kill the zomb...  first of all when you're going to make a film ...  and instead i watched a drama with some meanin... negative                                           NaN                                                NaN                                                NaN                                                NaN                       NaN                                                NaN                                                NaN                                                NaN                                                NaN                                                NaN                                                NaN                                                NaN                                                NaN                                                NaN                                NaN                    NaN                         NaN                                                NaN                                                NaN                                                NaN            NaN                                                      NaN  \n",
              "\"Petter Mattei's \"\"Love in the Time of Money\"\" ...  power and success do to people in the differen...  the director transfers the action to the prese...  or another to the next person                      but no one seems to know the previous point of...  the film has a sophisticated luxurious look. W...  as one discerns is the case with most of the p...  Rosario Dawson                                     Carol Kane                Michael Imperioli                                  Adrian Grenier                                     and the rest of the talented cast                  make these characters come alive.<br /><br />W... positive                                           NaN                                                NaN                                                NaN                                                NaN                                                NaN                                NaN                    NaN                         NaN                                                NaN                                                NaN                                                NaN            NaN                                                      NaN  \n",
              "...                                                                                                                                                                                                                                                                                                                                                                                                                                                                                                                                                                                                                                                                                                                                                                                                                                                                                                                                                                                                                                                                                                                                                                                                                                                 ...  \n",
              "\"I have seen The Running Man several times as I...  I intentionally look for films and programs in... positive                                           NaN                                                NaN                                                NaN                                                NaN                                                NaN                                                NaN                       NaN                                                NaN                                                NaN                                                NaN                                                NaN                                                NaN                                                NaN                                                NaN                                                NaN                                                NaN                                NaN                    NaN                         NaN                                                NaN                                                NaN                                                NaN            NaN                                                      NaN  \n",
              "\"A stuttering plot                                  uninteresting characters and sub-par (to say t...  in their motives                                   actions or their professed occupations. The pl...  at least                                           wincing. <br /><br />Avoid it like the plague....  dialogue and plot. Yuck.\"                         negative                                           NaN                       NaN                                                NaN                                                NaN                                                NaN                                                NaN                                                NaN                                                NaN                                                NaN                                                NaN                                                NaN                                NaN                    NaN                         NaN                                                NaN                                                NaN                                                NaN            NaN                                                      NaN  \n",
              "\"Yes                                                this movie is a real thief. It stole some shin...  but come on                                        this is more clear than the summer sky. Hurt l...  no real plot at all. I really feel myself in t...  only with the exception that those were black ...  you surely have much better movies to choose f... negative                                           NaN                       NaN                                                NaN                                                NaN                                                NaN                                                NaN                                                NaN                                                NaN                                                NaN                                                NaN                                                NaN                                NaN                    NaN                         NaN                                                NaN                                                NaN                                                NaN            NaN                                                      NaN  \n",
              "\"Whilst this is most definitely a well crafted ...  it's thoroughly without any entertainment valu...  this film will send you over the edge.<br /><b...  this film will be just one more thing in your ...  BTW)                                               safe in the knowledge that your life is so muc...  and that are in fact in a much worse situation...  much as I wanted to like this movie... I hated...  for no reason whatsoever  looked back at itself and then stopped.<br /><...  at least not one that is conveyed on screen. J...  it's gritty and it's real. It's well made. Lif...  they do well to shout it from the rooftops.<br...  I feel cheated because this movie pretends to ...  that if you just suffer through a little more ...  it'll have something to say. It'll make you st...  I do submit that this is a well crafted film. ...  it's utterly miss-able.\"                          negative                           NaN                    NaN                         NaN                                                NaN                                                NaN                                                NaN            NaN                                                      NaN  \n",
              "\"<br /><br />I have to admit to enjoying bad mo... NaN                                                NaN                                                NaN                                                NaN                                                NaN                                                NaN                                                NaN                                                NaN                       NaN                                                NaN                                                NaN                                                NaN                                                NaN                                                NaN                                                NaN                                                NaN                                                NaN                                                NaN                                NaN                    NaN                         NaN                                                NaN                                                NaN                                                NaN            NaN                                                      NaN  \n",
              "\n",
              "[1489 rows x 2 columns]"
            ],
            "text/html": [
              "\n",
              "  <div id=\"df-57a489c7-b5ca-4672-9bd9-f361da3407d7\">\n",
              "    <div class=\"colab-df-container\">\n",
              "      <div>\n",
              "<style scoped>\n",
              "    .dataframe tbody tr th:only-of-type {\n",
              "        vertical-align: middle;\n",
              "    }\n",
              "\n",
              "    .dataframe tbody tr th {\n",
              "        vertical-align: top;\n",
              "    }\n",
              "\n",
              "    .dataframe thead th {\n",
              "        text-align: right;\n",
              "    }\n",
              "</style>\n",
              "<table border=\"1\" class=\"dataframe\">\n",
              "  <thead>\n",
              "    <tr style=\"text-align: right;\">\n",
              "      <th></th>\n",
              "      <th></th>\n",
              "      <th></th>\n",
              "      <th></th>\n",
              "      <th></th>\n",
              "      <th></th>\n",
              "      <th></th>\n",
              "      <th></th>\n",
              "      <th></th>\n",
              "      <th></th>\n",
              "      <th></th>\n",
              "      <th></th>\n",
              "      <th></th>\n",
              "      <th></th>\n",
              "      <th></th>\n",
              "      <th></th>\n",
              "      <th></th>\n",
              "      <th></th>\n",
              "      <th></th>\n",
              "      <th></th>\n",
              "      <th></th>\n",
              "      <th></th>\n",
              "      <th></th>\n",
              "      <th></th>\n",
              "      <th></th>\n",
              "      <th></th>\n",
              "      <th>review</th>\n",
              "      <th>sentiment</th>\n",
              "    </tr>\n",
              "  </thead>\n",
              "  <tbody>\n",
              "    <tr>\n",
              "      <th>\"One of the other reviewers has mentioned that after watching just 1 Oz episode you'll be hooked. They are right</th>\n",
              "      <th>as this is exactly what happened with me.&lt;br /&gt;&lt;br /&gt;The first thing that struck me about Oz was its brutality and unflinching scenes of violence</th>\n",
              "      <th>which set in right from the word GO. Trust me</th>\n",
              "      <th>this is not a show for the faint hearted or timid. This show pulls no punches with regards to drugs</th>\n",
              "      <th>sex or violence. Its is hardcore</th>\n",
              "      <th>in the classic use of the word.&lt;br /&gt;&lt;br /&gt;It is called OZ as that is the nickname given to the Oswald Maximum Security State Penitentary. It focuses mainly on Emerald City</th>\n",
              "      <th>an experimental section of the prison where all the cells have glass fronts and face inwards</th>\n",
              "      <th>so privacy is not high on the agenda. Em City is home to many..Aryans</th>\n",
              "      <th>Muslims</th>\n",
              "      <th>gangstas</th>\n",
              "      <th>Latinos</th>\n",
              "      <th>Christians</th>\n",
              "      <th>Italians</th>\n",
              "      <th>Irish and more....so scuffles</th>\n",
              "      <th>death stares</th>\n",
              "      <th>dodgy dealings and shady agreements are never far away.&lt;br /&gt;&lt;br /&gt;I would say the main appeal of the show is due to the fact that it goes where other shows wouldn't dare. Forget pretty pictures painted for mainstream audiences</th>\n",
              "      <th>forget charm</th>\n",
              "      <th>forget romance...OZ doesn't mess around. The first episode I ever saw struck me as so nasty it was surreal</th>\n",
              "      <th>I couldn't say I was ready for it</th>\n",
              "      <th>but as I watched more</th>\n",
              "      <th>I developed a taste for Oz</th>\n",
              "      <th>and got accustomed to the high levels of graphic violence. Not just violence</th>\n",
              "      <th>but injustice (crooked guards who'll be sold out for a nickel</th>\n",
              "      <th>inmates who'll kill on order and get away with it</th>\n",
              "      <th>well mannered</th>\n",
              "      <th>middle class inmates being turned into prison bitches due to their lack of street skills or prison experience) Watching Oz</th>\n",
              "      <td>you may become comfortable with what is uncom...</td>\n",
              "      <td>positive</td>\n",
              "    </tr>\n",
              "    <tr>\n",
              "      <th>\"A wonderful little production. &lt;br /&gt;&lt;br /&gt;The filming technique is very unassuming- very old-time-BBC fashion and gives a comforting</th>\n",
              "      <th>and sometimes discomforting</th>\n",
              "      <th>sense of realism to the entire piece. &lt;br /&gt;&lt;br /&gt;The actors are extremely well chosen- Michael Sheen not only \"\"has got all the polari\"\" but he has all the voices down pat too! You can truly see the seamless editing guided by the references to Williams' diary entries</th>\n",
              "      <th>not only is it well worth the watching but it is a terrificly written and performed piece. A masterful production about one of the great master's of comedy and his life. &lt;br /&gt;&lt;br /&gt;The realism really comes home with the little things: the fantasy of the guard which</th>\n",
              "      <th>rather than use the traditional 'dream' techniques remains solid then disappears. It plays on our knowledge and our senses</th>\n",
              "      <th>particularly with the scenes concerning Orton and Halliwell and the sets (particularly of their flat with Halliwell's murals decorating every surface) are terribly well done.\"</th>\n",
              "      <th>positive</th>\n",
              "      <th>NaN</th>\n",
              "      <th>NaN</th>\n",
              "      <th>NaN</th>\n",
              "      <th>NaN</th>\n",
              "      <th>NaN</th>\n",
              "      <th>NaN</th>\n",
              "      <th>NaN</th>\n",
              "      <th>NaN</th>\n",
              "      <th>NaN</th>\n",
              "      <th>NaN</th>\n",
              "      <th>NaN</th>\n",
              "      <th>NaN</th>\n",
              "      <th>NaN</th>\n",
              "      <th>NaN</th>\n",
              "      <th>NaN</th>\n",
              "      <th>NaN</th>\n",
              "      <th>NaN</th>\n",
              "      <th>NaN</th>\n",
              "      <th>NaN</th>\n",
              "      <td>NaN</td>\n",
              "      <td>NaN</td>\n",
              "    </tr>\n",
              "    <tr>\n",
              "      <th>\"I thought this was a wonderful way to spend time on a too hot summer weekend</th>\n",
              "      <th>sitting in the air conditioned theater and watching a light-hearted comedy. The plot is simplistic</th>\n",
              "      <th>but the dialogue is witty and the characters are likable (even the well bread suspected serial killer). While some may be disappointed when they realize this is not Match Point 2: Risk Addiction</th>\n",
              "      <th>I thought it was proof that Woody Allen is still fully in control of the style many of us have grown to love.&lt;br /&gt;&lt;br /&gt;This was the most I'd laughed at one of Woody's comedies in years (dare I say a decade?). While I've never been impressed with Scarlet Johanson</th>\n",
              "      <th>in this she managed to tone down her \"\"sexy\"\" image and jumped right into a average</th>\n",
              "      <th>but spirited young woman.&lt;br /&gt;&lt;br /&gt;This may not be the crown jewel of his career</th>\n",
              "      <th>but it was wittier than \"\"Devil Wears Prada\"\" and more interesting than \"\"Superman\"\" a great comedy to go see with friends.\"</th>\n",
              "      <th>positive</th>\n",
              "      <th>NaN</th>\n",
              "      <th>NaN</th>\n",
              "      <th>NaN</th>\n",
              "      <th>NaN</th>\n",
              "      <th>NaN</th>\n",
              "      <th>NaN</th>\n",
              "      <th>NaN</th>\n",
              "      <th>NaN</th>\n",
              "      <th>NaN</th>\n",
              "      <th>NaN</th>\n",
              "      <th>NaN</th>\n",
              "      <th>NaN</th>\n",
              "      <th>NaN</th>\n",
              "      <th>NaN</th>\n",
              "      <th>NaN</th>\n",
              "      <th>NaN</th>\n",
              "      <th>NaN</th>\n",
              "      <th>NaN</th>\n",
              "      <td>NaN</td>\n",
              "      <td>NaN</td>\n",
              "    </tr>\n",
              "    <tr>\n",
              "      <th>\"Basically there's a family where a little boy (Jake) thinks there's a zombie in his closet &amp; his parents are fighting all the time.&lt;br /&gt;&lt;br /&gt;This movie is slower than a soap opera... and suddenly</th>\n",
              "      <th>Jake decides to become Rambo and kill the zombie.&lt;br /&gt;&lt;br /&gt;OK</th>\n",
              "      <th>first of all when you're going to make a film you must Decide if its a thriller or a drama! As a drama the movie is watchable. Parents are divorcing &amp; arguing like in real life. And then we have Jake with his closet which totally ruins all the film! I expected to see a BOOGEYMAN similar movie</th>\n",
              "      <th>and instead i watched a drama with some meaningless thriller spots.&lt;br /&gt;&lt;br /&gt;3 out of 10 just for the well playing parents &amp; descent dialogs. As for the shots with Jake: just ignore them.\"</th>\n",
              "      <th>negative</th>\n",
              "      <th>NaN</th>\n",
              "      <th>NaN</th>\n",
              "      <th>NaN</th>\n",
              "      <th>NaN</th>\n",
              "      <th>NaN</th>\n",
              "      <th>NaN</th>\n",
              "      <th>NaN</th>\n",
              "      <th>NaN</th>\n",
              "      <th>NaN</th>\n",
              "      <th>NaN</th>\n",
              "      <th>NaN</th>\n",
              "      <th>NaN</th>\n",
              "      <th>NaN</th>\n",
              "      <th>NaN</th>\n",
              "      <th>NaN</th>\n",
              "      <th>NaN</th>\n",
              "      <th>NaN</th>\n",
              "      <th>NaN</th>\n",
              "      <th>NaN</th>\n",
              "      <th>NaN</th>\n",
              "      <th>NaN</th>\n",
              "      <td>NaN</td>\n",
              "      <td>NaN</td>\n",
              "    </tr>\n",
              "    <tr>\n",
              "      <th>\"Petter Mattei's \"\"Love in the Time of Money\"\" is a visually stunning film to watch. Mr. Mattei offers us a vivid portrait about human relations. This is a movie that seems to be telling us what money</th>\n",
              "      <th>power and success do to people in the different situations we encounter. &lt;br /&gt;&lt;br /&gt;This being a variation on the Arthur Schnitzler's play about the same theme</th>\n",
              "      <th>the director transfers the action to the present time New York where all these different characters meet and connect. Each one is connected in one way</th>\n",
              "      <th>or another to the next person</th>\n",
              "      <th>but no one seems to know the previous point of contact. Stylishly</th>\n",
              "      <th>the film has a sophisticated luxurious look. We are taken to see how these people live and the world they live in their own habitat.&lt;br /&gt;&lt;br /&gt;The only thing one gets out of all these souls in the picture is the different stages of loneliness each one inhabits. A big city is not exactly the best place in which human relations find sincere fulfillment</th>\n",
              "      <th>as one discerns is the case with most of the people we encounter.&lt;br /&gt;&lt;br /&gt;The acting is good under Mr. Mattei's direction. Steve Buscemi</th>\n",
              "      <th>Rosario Dawson</th>\n",
              "      <th>Carol Kane</th>\n",
              "      <th>Michael Imperioli</th>\n",
              "      <th>Adrian Grenier</th>\n",
              "      <th>and the rest of the talented cast</th>\n",
              "      <th>make these characters come alive.&lt;br /&gt;&lt;br /&gt;We wish Mr. Mattei good luck and await anxiously for his next work.\"</th>\n",
              "      <th>positive</th>\n",
              "      <th>NaN</th>\n",
              "      <th>NaN</th>\n",
              "      <th>NaN</th>\n",
              "      <th>NaN</th>\n",
              "      <th>NaN</th>\n",
              "      <th>NaN</th>\n",
              "      <th>NaN</th>\n",
              "      <th>NaN</th>\n",
              "      <th>NaN</th>\n",
              "      <th>NaN</th>\n",
              "      <th>NaN</th>\n",
              "      <th>NaN</th>\n",
              "      <td>NaN</td>\n",
              "      <td>NaN</td>\n",
              "    </tr>\n",
              "    <tr>\n",
              "      <th>...</th>\n",
              "      <th>...</th>\n",
              "      <th>...</th>\n",
              "      <th>...</th>\n",
              "      <th>...</th>\n",
              "      <th>...</th>\n",
              "      <th>...</th>\n",
              "      <th>...</th>\n",
              "      <th>...</th>\n",
              "      <th>...</th>\n",
              "      <th>...</th>\n",
              "      <th>...</th>\n",
              "      <th>...</th>\n",
              "      <th>...</th>\n",
              "      <th>...</th>\n",
              "      <th>...</th>\n",
              "      <th>...</th>\n",
              "      <th>...</th>\n",
              "      <th>...</th>\n",
              "      <th>...</th>\n",
              "      <th>...</th>\n",
              "      <th>...</th>\n",
              "      <th>...</th>\n",
              "      <th>...</th>\n",
              "      <th>...</th>\n",
              "      <th>...</th>\n",
              "      <td>...</td>\n",
              "      <td>...</td>\n",
              "    </tr>\n",
              "    <tr>\n",
              "      <th>\"I have seen The Running Man several times as I am a Stephen King fan and have all his movies but now it is even better because up until 2 days ago I didn't know about this website and I didn't realize that the Paul Michael Glaser that was involved with this movie was the same Paul Michael Glaser that I grow up watching on Starsky and Hutch television show. For me this is a pleasant surprise because I can't tell you how many times I cried when Starsky or Hutch got hurt. The episode where Starsky (Kill Starsky) almost died I cried so hard My dad had to turn away from the show. What to you expect of a kid at age 12. Now</th>\n",
              "      <th>I intentionally look for films and programs involving Paul or David Soul and anything that Stephen King has his hands on I'm so there!!!!!!!! Just got to say Happy birthday Paul!!!!!\"</th>\n",
              "      <th>positive</th>\n",
              "      <th>NaN</th>\n",
              "      <th>NaN</th>\n",
              "      <th>NaN</th>\n",
              "      <th>NaN</th>\n",
              "      <th>NaN</th>\n",
              "      <th>NaN</th>\n",
              "      <th>NaN</th>\n",
              "      <th>NaN</th>\n",
              "      <th>NaN</th>\n",
              "      <th>NaN</th>\n",
              "      <th>NaN</th>\n",
              "      <th>NaN</th>\n",
              "      <th>NaN</th>\n",
              "      <th>NaN</th>\n",
              "      <th>NaN</th>\n",
              "      <th>NaN</th>\n",
              "      <th>NaN</th>\n",
              "      <th>NaN</th>\n",
              "      <th>NaN</th>\n",
              "      <th>NaN</th>\n",
              "      <th>NaN</th>\n",
              "      <th>NaN</th>\n",
              "      <th>NaN</th>\n",
              "      <td>NaN</td>\n",
              "      <td>NaN</td>\n",
              "    </tr>\n",
              "    <tr>\n",
              "      <th>\"A stuttering plot</th>\n",
              "      <th>uninteresting characters and sub-par (to say the least) dialogue plagues this TV production that could hardly have been interesting even with a billion dollar production budget.&lt;br /&gt;&lt;br /&gt;The characters aren't believable</th>\n",
              "      <th>in their motives</th>\n",
              "      <th>actions or their professed occupations. The plot reads like a bad Dungeons and Dragons(TM) hack but with plasma rifles and force fields. There are severe continuity issues and the degree of pointless interaction between the characters has this author</th>\n",
              "      <th>at least</th>\n",
              "      <th>wincing. &lt;br /&gt;&lt;br /&gt;Avoid it like the plague. Watch any episode of Dark Angel and you will have better acting</th>\n",
              "      <th>dialogue and plot. Yuck.\"</th>\n",
              "      <th>negative</th>\n",
              "      <th>NaN</th>\n",
              "      <th>NaN</th>\n",
              "      <th>NaN</th>\n",
              "      <th>NaN</th>\n",
              "      <th>NaN</th>\n",
              "      <th>NaN</th>\n",
              "      <th>NaN</th>\n",
              "      <th>NaN</th>\n",
              "      <th>NaN</th>\n",
              "      <th>NaN</th>\n",
              "      <th>NaN</th>\n",
              "      <th>NaN</th>\n",
              "      <th>NaN</th>\n",
              "      <th>NaN</th>\n",
              "      <th>NaN</th>\n",
              "      <th>NaN</th>\n",
              "      <th>NaN</th>\n",
              "      <th>NaN</th>\n",
              "      <td>NaN</td>\n",
              "      <td>NaN</td>\n",
              "    </tr>\n",
              "    <tr>\n",
              "      <th>\"Yes</th>\n",
              "      <th>this movie is a real thief. It stole some shiny Oscars from Avatar just because politicians wanted another war-hero movie to boost the acceptance (support?) for the wars U.S. is still fighting today. I do not really want to go here into politics</th>\n",
              "      <th>but come on</th>\n",
              "      <th>this is more clear than the summer sky. Hurt locker does not really have anything outstanding</th>\n",
              "      <th>no real plot at all. I really feel myself in the 50's of Hungary when the party told the people what to like and what not to like. The same propaganda movies were produced that time</th>\n",
              "      <th>only with the exception that those were black and white. Even if we consider this title a reasonable piece of the \"\"U.S. wars are cool\"\" genre</th>\n",
              "      <th>you surely have much better movies to choose from.\"</th>\n",
              "      <th>negative</th>\n",
              "      <th>NaN</th>\n",
              "      <th>NaN</th>\n",
              "      <th>NaN</th>\n",
              "      <th>NaN</th>\n",
              "      <th>NaN</th>\n",
              "      <th>NaN</th>\n",
              "      <th>NaN</th>\n",
              "      <th>NaN</th>\n",
              "      <th>NaN</th>\n",
              "      <th>NaN</th>\n",
              "      <th>NaN</th>\n",
              "      <th>NaN</th>\n",
              "      <th>NaN</th>\n",
              "      <th>NaN</th>\n",
              "      <th>NaN</th>\n",
              "      <th>NaN</th>\n",
              "      <th>NaN</th>\n",
              "      <th>NaN</th>\n",
              "      <td>NaN</td>\n",
              "      <td>NaN</td>\n",
              "    </tr>\n",
              "    <tr>\n",
              "      <th>\"Whilst this is most definitely a well crafted piece of film-making</th>\n",
              "      <th>it's thoroughly without any entertainment value whatsoever.&lt;br /&gt;&lt;br /&gt;If you're depressed already</th>\n",
              "      <th>this film will send you over the edge.&lt;br /&gt;&lt;br /&gt;If you're feeling somewhat depressed</th>\n",
              "      <th>this film will be just one more thing in your life to feel bitter about. You'll feel that it's just your luck to have chosen to watch a movie that turns out to be a complete waste of time.&lt;br /&gt;&lt;br /&gt;Otherwise you might be able to make it through this film unscathed (I didn't</th>\n",
              "      <th>BTW)</th>\n",
              "      <th>safe in the knowledge that your life is so much better than Jim's. Then again you might consider that you have been fooling yourself</th>\n",
              "      <th>and that are in fact in a much worse situation than you'd previously realized. You might feel a bit annoyed at Jim for bringing this to your attention. You may want to slap him around a bit with a wet fish. &lt;br /&gt;&lt;br /&gt;The sad truth is</th>\n",
              "      <th>much as I wanted to like this movie... I hated it. It took rather a long miserable road down the path of oblivion and then suddenly</th>\n",
              "      <th>for no reason whatsoever</th>\n",
              "      <th>looked back at itself and then stopped.&lt;br /&gt;&lt;br /&gt;Jim does not have an epiphany</th>\n",
              "      <th>at least not one that is conveyed on screen. Jim has a miserable life and a miserable set of options. He discovers nothing that one can relate to and fails to make any significant progress on his journey of self-discovery. &lt;br /&gt;&lt;br /&gt;Of course no-one alive could write a happy ending to this movie. As others have said it's no Hollywood tale</th>\n",
              "      <th>it's gritty and it's real. It's well made. Life is quite a struggle at times. If anyone were to know \"\"the answer\"\"</th>\n",
              "      <th>they do well to shout it from the rooftops.&lt;br /&gt;&lt;br /&gt;Still</th>\n",
              "      <th>I feel cheated because this movie pretends to have something to say. You feel that it's going to say something</th>\n",
              "      <th>that if you just suffer through a little more of it</th>\n",
              "      <th>it'll have something to say. It'll make you stop and think. &lt;br /&gt;&lt;br /&gt;It doesn't.&lt;br /&gt;&lt;br /&gt;Again</th>\n",
              "      <th>I do submit that this is a well crafted film. And therefore may be of value to a film student with a penchant for e.g. lighting techniques of the use of colour palettes. &lt;br /&gt;&lt;br /&gt;For the rest of us</th>\n",
              "      <th>it's utterly miss-able.\"</th>\n",
              "      <th>negative</th>\n",
              "      <th>NaN</th>\n",
              "      <th>NaN</th>\n",
              "      <th>NaN</th>\n",
              "      <th>NaN</th>\n",
              "      <th>NaN</th>\n",
              "      <th>NaN</th>\n",
              "      <th>NaN</th>\n",
              "      <td>NaN</td>\n",
              "      <td>NaN</td>\n",
              "    </tr>\n",
              "    <tr>\n",
              "      <th>\"&lt;br /&gt;&lt;br /&gt;I have to admit to enjoying bad movies. I love the</th>\n",
              "      <th>NaN</th>\n",
              "      <th>NaN</th>\n",
              "      <th>NaN</th>\n",
              "      <th>NaN</th>\n",
              "      <th>NaN</th>\n",
              "      <th>NaN</th>\n",
              "      <th>NaN</th>\n",
              "      <th>NaN</th>\n",
              "      <th>NaN</th>\n",
              "      <th>NaN</th>\n",
              "      <th>NaN</th>\n",
              "      <th>NaN</th>\n",
              "      <th>NaN</th>\n",
              "      <th>NaN</th>\n",
              "      <th>NaN</th>\n",
              "      <th>NaN</th>\n",
              "      <th>NaN</th>\n",
              "      <th>NaN</th>\n",
              "      <th>NaN</th>\n",
              "      <th>NaN</th>\n",
              "      <th>NaN</th>\n",
              "      <th>NaN</th>\n",
              "      <th>NaN</th>\n",
              "      <th>NaN</th>\n",
              "      <th>NaN</th>\n",
              "      <td>NaN</td>\n",
              "      <td>NaN</td>\n",
              "    </tr>\n",
              "  </tbody>\n",
              "</table>\n",
              "<p>1489 rows × 2 columns</p>\n",
              "</div>\n",
              "      <button class=\"colab-df-convert\" onclick=\"convertToInteractive('df-57a489c7-b5ca-4672-9bd9-f361da3407d7')\"\n",
              "              title=\"Convert this dataframe to an interactive table.\"\n",
              "              style=\"display:none;\">\n",
              "        \n",
              "  <svg xmlns=\"http://www.w3.org/2000/svg\" height=\"24px\"viewBox=\"0 0 24 24\"\n",
              "       width=\"24px\">\n",
              "    <path d=\"M0 0h24v24H0V0z\" fill=\"none\"/>\n",
              "    <path d=\"M18.56 5.44l.94 2.06.94-2.06 2.06-.94-2.06-.94-.94-2.06-.94 2.06-2.06.94zm-11 1L8.5 8.5l.94-2.06 2.06-.94-2.06-.94L8.5 2.5l-.94 2.06-2.06.94zm10 10l.94 2.06.94-2.06 2.06-.94-2.06-.94-.94-2.06-.94 2.06-2.06.94z\"/><path d=\"M17.41 7.96l-1.37-1.37c-.4-.4-.92-.59-1.43-.59-.52 0-1.04.2-1.43.59L10.3 9.45l-7.72 7.72c-.78.78-.78 2.05 0 2.83L4 21.41c.39.39.9.59 1.41.59.51 0 1.02-.2 1.41-.59l7.78-7.78 2.81-2.81c.8-.78.8-2.07 0-2.86zM5.41 20L4 18.59l7.72-7.72 1.47 1.35L5.41 20z\"/>\n",
              "  </svg>\n",
              "      </button>\n",
              "      \n",
              "  <style>\n",
              "    .colab-df-container {\n",
              "      display:flex;\n",
              "      flex-wrap:wrap;\n",
              "      gap: 12px;\n",
              "    }\n",
              "\n",
              "    .colab-df-convert {\n",
              "      background-color: #E8F0FE;\n",
              "      border: none;\n",
              "      border-radius: 50%;\n",
              "      cursor: pointer;\n",
              "      display: none;\n",
              "      fill: #1967D2;\n",
              "      height: 32px;\n",
              "      padding: 0 0 0 0;\n",
              "      width: 32px;\n",
              "    }\n",
              "\n",
              "    .colab-df-convert:hover {\n",
              "      background-color: #E2EBFA;\n",
              "      box-shadow: 0px 1px 2px rgba(60, 64, 67, 0.3), 0px 1px 3px 1px rgba(60, 64, 67, 0.15);\n",
              "      fill: #174EA6;\n",
              "    }\n",
              "\n",
              "    [theme=dark] .colab-df-convert {\n",
              "      background-color: #3B4455;\n",
              "      fill: #D2E3FC;\n",
              "    }\n",
              "\n",
              "    [theme=dark] .colab-df-convert:hover {\n",
              "      background-color: #434B5C;\n",
              "      box-shadow: 0px 1px 3px 1px rgba(0, 0, 0, 0.15);\n",
              "      filter: drop-shadow(0px 1px 2px rgba(0, 0, 0, 0.3));\n",
              "      fill: #FFFFFF;\n",
              "    }\n",
              "  </style>\n",
              "\n",
              "      <script>\n",
              "        const buttonEl =\n",
              "          document.querySelector('#df-57a489c7-b5ca-4672-9bd9-f361da3407d7 button.colab-df-convert');\n",
              "        buttonEl.style.display =\n",
              "          google.colab.kernel.accessAllowed ? 'block' : 'none';\n",
              "\n",
              "        async function convertToInteractive(key) {\n",
              "          const element = document.querySelector('#df-57a489c7-b5ca-4672-9bd9-f361da3407d7');\n",
              "          const dataTable =\n",
              "            await google.colab.kernel.invokeFunction('convertToInteractive',\n",
              "                                                     [key], {});\n",
              "          if (!dataTable) return;\n",
              "\n",
              "          const docLinkHtml = 'Like what you see? Visit the ' +\n",
              "            '<a target=\"_blank\" href=https://colab.research.google.com/notebooks/data_table.ipynb>data table notebook</a>'\n",
              "            + ' to learn more about interactive tables.';\n",
              "          element.innerHTML = '';\n",
              "          dataTable['output_type'] = 'display_data';\n",
              "          await google.colab.output.renderOutput(dataTable, element);\n",
              "          const docLink = document.createElement('div');\n",
              "          docLink.innerHTML = docLinkHtml;\n",
              "          element.appendChild(docLink);\n",
              "        }\n",
              "      </script>\n",
              "    </div>\n",
              "  </div>\n",
              "  "
            ]
          },
          "metadata": {},
          "execution_count": 2
        }
      ],
      "source": [
        "import csv\n",
        "df_review = pd.read_csv(\"IMDB Dataset.csv\",quoting=csv.QUOTE_NONE,on_bad_lines='skip')\n",
        "df_review"
      ]
    },
    {
      "cell_type": "markdown",
      "id": "8552b50d",
      "metadata": {
        "papermill": {
          "duration": 0.029786,
          "end_time": "2022-03-15T05:15:17.879054",
          "exception": false,
          "start_time": "2022-03-15T05:15:17.849268",
          "status": "completed"
        },
        "tags": [],
        "id": "8552b50d"
      },
      "source": [
        "This dataset contains 50000 rows; however, to train our model faster in the following steps, we’re going to take a smaller sample of 10000 rows. This small sample will contain 9000 positive and 1000 negative reviews to make the data imbalanced (so I can teach you undersampling and oversampling techniques in the next step)"
      ]
    },
    {
      "cell_type": "code",
      "execution_count": 3,
      "id": "eb4920fc",
      "metadata": {
        "execution": {
          "iopub.execute_input": "2022-03-15T05:15:17.950103Z",
          "iopub.status.busy": "2022-03-15T05:15:17.949456Z",
          "iopub.status.idle": "2022-03-15T05:15:17.964839Z",
          "shell.execute_reply": "2022-03-15T05:15:17.964310Z",
          "shell.execute_reply.started": "2022-03-15T05:12:59.561143Z"
        },
        "papermill": {
          "duration": 0.055791,
          "end_time": "2022-03-15T05:15:17.964973",
          "exception": false,
          "start_time": "2022-03-15T05:15:17.909182",
          "status": "completed"
        },
        "tags": [],
        "id": "eb4920fc"
      },
      "outputs": [],
      "source": [
        "df_positive = df_review[df_review['sentiment']=='positive'][:9000]\n",
        "df_negative = df_review[df_review['sentiment']=='negative'][:1000]\n",
        "\n",
        "df_review_imb = pd.concat([df_positive,df_negative ])"
      ]
    },
    {
      "cell_type": "markdown",
      "id": "d13a5a30",
      "metadata": {
        "papermill": {
          "duration": 0.029572,
          "end_time": "2022-03-15T05:15:18.025347",
          "exception": false,
          "start_time": "2022-03-15T05:15:17.995775",
          "status": "completed"
        },
        "tags": [],
        "id": "d13a5a30"
      },
      "source": [
        "## Dealing with Imbalanced Classes\n",
        "\n",
        "In most cases, you’ll have a large amount of data for one class, and much fewer observations for other classes. This is known as imbalanced data because the number of observations per class is not equally distributed.\n",
        "\n",
        "Let’s take a look at how our df_review_imb dataset is distributed."
      ]
    },
    {
      "cell_type": "code",
      "execution_count": 4,
      "id": "ab26e2fc",
      "metadata": {
        "execution": {
          "iopub.execute_input": "2022-03-15T05:15:18.095023Z",
          "iopub.status.busy": "2022-03-15T05:15:18.088822Z",
          "iopub.status.idle": "2022-03-15T05:15:18.306080Z",
          "shell.execute_reply": "2022-03-15T05:15:18.306591Z",
          "shell.execute_reply.started": "2022-03-15T05:12:59.597251Z"
        },
        "papermill": {
          "duration": 0.250269,
          "end_time": "2022-03-15T05:15:18.306754",
          "exception": false,
          "start_time": "2022-03-15T05:15:18.056485",
          "status": "completed"
        },
        "tags": [],
        "colab": {
          "base_uri": "https://localhost:8080/",
          "height": 407
        },
        "id": "ab26e2fc",
        "outputId": "bb869143-546d-409a-8ba8-124bfdbda1a3"
      },
      "outputs": [
        {
          "output_type": "display_data",
          "data": {
            "text/plain": [
              "<Figure size 800x400 with 1 Axes>"
            ],
            "image/png": "[encoded data removed]"
          },
          "metadata": {}
        }
      ],
      "source": [
        "colors = sns.color_palette('deep')\n",
        "\n",
        "plt.figure(figsize=(8,4), tight_layout=True)\n",
        "plt.bar(x=['Positive', 'Negative'],\n",
        "        height=df_review_imb.value_counts(['sentiment']),\n",
        "        color=colors[:2])\n",
        "plt.title('Sentiment')\n",
        "plt.savefig('sentiment.png')\n",
        "plt.show()"
      ]
    },
    {
      "cell_type": "markdown",
      "id": "2495ecba",
      "metadata": {
        "papermill": {
          "duration": 0.030132,
          "end_time": "2022-03-15T05:15:18.367749",
          "exception": false,
          "start_time": "2022-03-15T05:15:18.337617",
          "status": "completed"
        },
        "tags": [],
        "id": "2495ecba"
      },
      "source": [
        "To resample our data we use the imblearn library. You can either undersample positive reviews or oversample negative reviews (you need to choose based on the data you’re working with). In this case, we’ll use the RandomUnderSampler"
      ]
    },
    {
      "cell_type": "code",
      "execution_count": 5,
      "id": "6189f3a8",
      "metadata": {
        "execution": {
          "iopub.execute_input": "2022-03-15T05:15:18.433563Z",
          "iopub.status.busy": "2022-03-15T05:15:18.432913Z",
          "iopub.status.idle": "2022-03-15T05:15:18.992477Z",
          "shell.execute_reply": "2022-03-15T05:15:18.991966Z",
          "shell.execute_reply.started": "2022-03-15T05:12:59.869383Z"
        },
        "papermill": {
          "duration": 0.594649,
          "end_time": "2022-03-15T05:15:18.992609",
          "exception": false,
          "start_time": "2022-03-15T05:15:18.397960",
          "status": "completed"
        },
        "tags": [],
        "colab": {
          "base_uri": "https://localhost:8080/",
          "height": 175
        },
        "id": "6189f3a8",
        "outputId": "58940ab2-dd56-4e62-b7b8-e0bc83459daa"
      },
      "outputs": [
        {
          "output_type": "execute_result",
          "data": {
            "text/plain": [
              "                                              review sentiment\n",
              "0   the greater your chance of surviving giant cr...  negative\n",
              "1   just bend over and have someone kick you in t...  negative\n",
              "2   you may become comfortable with what is uncom...  positive\n",
              "3          I'm sure you still get many fun from it.\"  positive"
            ],
            "text/html": [
              "\n",
              "  <div id=\"df-d347f7ef-db6e-461d-92b4-a128a864bf3a\">\n",
              "    <div class=\"colab-df-container\">\n",
              "      <div>\n",
              "<style scoped>\n",
              "    .dataframe tbody tr th:only-of-type {\n",
              "        vertical-align: middle;\n",
              "    }\n",
              "\n",
              "    .dataframe tbody tr th {\n",
              "        vertical-align: top;\n",
              "    }\n",
              "\n",
              "    .dataframe thead th {\n",
              "        text-align: right;\n",
              "    }\n",
              "</style>\n",
              "<table border=\"1\" class=\"dataframe\">\n",
              "  <thead>\n",
              "    <tr style=\"text-align: right;\">\n",
              "      <th></th>\n",
              "      <th>review</th>\n",
              "      <th>sentiment</th>\n",
              "    </tr>\n",
              "  </thead>\n",
              "  <tbody>\n",
              "    <tr>\n",
              "      <th>0</th>\n",
              "      <td>the greater your chance of surviving giant cr...</td>\n",
              "      <td>negative</td>\n",
              "    </tr>\n",
              "    <tr>\n",
              "      <th>1</th>\n",
              "      <td>just bend over and have someone kick you in t...</td>\n",
              "      <td>negative</td>\n",
              "    </tr>\n",
              "    <tr>\n",
              "      <th>2</th>\n",
              "      <td>you may become comfortable with what is uncom...</td>\n",
              "      <td>positive</td>\n",
              "    </tr>\n",
              "    <tr>\n",
              "      <th>3</th>\n",
              "      <td>I'm sure you still get many fun from it.\"</td>\n",
              "      <td>positive</td>\n",
              "    </tr>\n",
              "  </tbody>\n",
              "</table>\n",
              "</div>\n",
              "      <button class=\"colab-df-convert\" onclick=\"convertToInteractive('df-d347f7ef-db6e-461d-92b4-a128a864bf3a')\"\n",
              "              title=\"Convert this dataframe to an interactive table.\"\n",
              "              style=\"display:none;\">\n",
              "        \n",
              "  <svg xmlns=\"http://www.w3.org/2000/svg\" height=\"24px\"viewBox=\"0 0 24 24\"\n",
              "       width=\"24px\">\n",
              "    <path d=\"M0 0h24v24H0V0z\" fill=\"none\"/>\n",
              "    <path d=\"M18.56 5.44l.94 2.06.94-2.06 2.06-.94-2.06-.94-.94-2.06-.94 2.06-2.06.94zm-11 1L8.5 8.5l.94-2.06 2.06-.94-2.06-.94L8.5 2.5l-.94 2.06-2.06.94zm10 10l.94 2.06.94-2.06 2.06-.94-2.06-.94-.94-2.06-.94 2.06-2.06.94z\"/><path d=\"M17.41 7.96l-1.37-1.37c-.4-.4-.92-.59-1.43-.59-.52 0-1.04.2-1.43.59L10.3 9.45l-7.72 7.72c-.78.78-.78 2.05 0 2.83L4 21.41c.39.39.9.59 1.41.59.51 0 1.02-.2 1.41-.59l7.78-7.78 2.81-2.81c.8-.78.8-2.07 0-2.86zM5.41 20L4 18.59l7.72-7.72 1.47 1.35L5.41 20z\"/>\n",
              "  </svg>\n",
              "      </button>\n",
              "      \n",
              "  <style>\n",
              "    .colab-df-container {\n",
              "      display:flex;\n",
              "      flex-wrap:wrap;\n",
              "      gap: 12px;\n",
              "    }\n",
              "\n",
              "    .colab-df-convert {\n",
              "      background-color: #E8F0FE;\n",
              "      border: none;\n",
              "      border-radius: 50%;\n",
              "      cursor: pointer;\n",
              "      display: none;\n",
              "      fill: #1967D2;\n",
              "      height: 32px;\n",
              "      padding: 0 0 0 0;\n",
              "      width: 32px;\n",
              "    }\n",
              "\n",
              "    .colab-df-convert:hover {\n",
              "      background-color: #E2EBFA;\n",
              "      box-shadow: 0px 1px 2px rgba(60, 64, 67, 0.3), 0px 1px 3px 1px rgba(60, 64, 67, 0.15);\n",
              "      fill: #174EA6;\n",
              "    }\n",
              "\n",
              "    [theme=dark] .colab-df-convert {\n",
              "      background-color: #3B4455;\n",
              "      fill: #D2E3FC;\n",
              "    }\n",
              "\n",
              "    [theme=dark] .colab-df-convert:hover {\n",
              "      background-color: #434B5C;\n",
              "      box-shadow: 0px 1px 3px 1px rgba(0, 0, 0, 0.15);\n",
              "      filter: drop-shadow(0px 1px 2px rgba(0, 0, 0, 0.3));\n",
              "      fill: #FFFFFF;\n",
              "    }\n",
              "  </style>\n",
              "\n",
              "      <script>\n",
              "        const buttonEl =\n",
              "          document.querySelector('#df-d347f7ef-db6e-461d-92b4-a128a864bf3a button.colab-df-convert');\n",
              "        buttonEl.style.display =\n",
              "          google.colab.kernel.accessAllowed ? 'block' : 'none';\n",
              "\n",
              "        async function convertToInteractive(key) {\n",
              "          const element = document.querySelector('#df-d347f7ef-db6e-461d-92b4-a128a864bf3a');\n",
              "          const dataTable =\n",
              "            await google.colab.kernel.invokeFunction('convertToInteractive',\n",
              "                                                     [key], {});\n",
              "          if (!dataTable) return;\n",
              "\n",
              "          const docLinkHtml = 'Like what you see? Visit the ' +\n",
              "            '<a target=\"_blank\" href=https://colab.research.google.com/notebooks/data_table.ipynb>data table notebook</a>'\n",
              "            + ' to learn more about interactive tables.';\n",
              "          element.innerHTML = '';\n",
              "          dataTable['output_type'] = 'display_data';\n",
              "          await google.colab.output.renderOutput(dataTable, element);\n",
              "          const docLink = document.createElement('div');\n",
              "          docLink.innerHTML = docLinkHtml;\n",
              "          element.appendChild(docLink);\n",
              "        }\n",
              "      </script>\n",
              "    </div>\n",
              "  </div>\n",
              "  "
            ]
          },
          "metadata": {},
          "execution_count": 5
        }
      ],
      "source": [
        "from imblearn.under_sampling import RandomUnderSampler\n",
        "rus = RandomUnderSampler(random_state= 0)\n",
        "df_review_bal,df_review_bal['sentiment']=rus.fit_resample(df_review_imb[['review']],df_review_imb['sentiment'])\n",
        "\n",
        "\n",
        "df_review_bal"
      ]
    },
    {
      "cell_type": "markdown",
      "id": "b43f23ee",
      "metadata": {
        "papermill": {
          "duration": 0.030799,
          "end_time": "2022-03-15T05:15:19.054687",
          "exception": false,
          "start_time": "2022-03-15T05:15:19.023888",
          "status": "completed"
        },
        "tags": [],
        "id": "b43f23ee"
      },
      "source": [
        "We can compare the imbalanced and balanced dataset with the following code."
      ]
    },
    {
      "cell_type": "code",
      "execution_count": 6,
      "id": "ba52f913",
      "metadata": {
        "execution": {
          "iopub.execute_input": "2022-03-15T05:15:19.122162Z",
          "iopub.status.busy": "2022-03-15T05:15:19.121592Z",
          "iopub.status.idle": "2022-03-15T05:15:19.128592Z",
          "shell.execute_reply": "2022-03-15T05:15:19.129169Z",
          "shell.execute_reply.started": "2022-03-15T05:13:00.437822Z"
        },
        "papermill": {
          "duration": 0.043514,
          "end_time": "2022-03-15T05:15:19.129336",
          "exception": false,
          "start_time": "2022-03-15T05:15:19.085822",
          "status": "completed"
        },
        "tags": [],
        "colab": {
          "base_uri": "https://localhost:8080/"
        },
        "id": "ba52f913",
        "outputId": "09a1b70a-4d15-443a-ed4c-6259466b3551"
      },
      "outputs": [
        {
          "output_type": "stream",
          "name": "stdout",
          "text": [
            "sentiment\n",
            "negative    5\n",
            "positive    2\n",
            "dtype: int64\n",
            "sentiment\n",
            "negative    2\n",
            "positive    2\n",
            "dtype: int64\n"
          ]
        }
      ],
      "source": [
        "print(df_review_imb.value_counts('sentiment'))\n",
        "print(df_review_bal.value_counts('sentiment'))"
      ]
    },
    {
      "cell_type": "markdown",
      "id": "88184a48",
      "metadata": {
        "papermill": {
          "duration": 0.031289,
          "end_time": "2022-03-15T05:15:19.191739",
          "exception": false,
          "start_time": "2022-03-15T05:15:19.160450",
          "status": "completed"
        },
        "tags": [],
        "id": "88184a48"
      },
      "source": [
        "\n",
        "## Splitting data into train and test set\n"
      ]
    },
    {
      "cell_type": "code",
      "execution_count": 7,
      "id": "e6c0f472",
      "metadata": {
        "execution": {
          "iopub.execute_input": "2022-03-15T05:15:19.259250Z",
          "iopub.status.busy": "2022-03-15T05:15:19.258255Z",
          "iopub.status.idle": "2022-03-15T05:15:19.263768Z",
          "shell.execute_reply": "2022-03-15T05:15:19.264239Z",
          "shell.execute_reply.started": "2022-03-15T05:13:00.448344Z"
        },
        "papermill": {
          "duration": 0.040695,
          "end_time": "2022-03-15T05:15:19.264415",
          "exception": false,
          "start_time": "2022-03-15T05:15:19.223720",
          "status": "completed"
        },
        "tags": [],
        "id": "e6c0f472"
      },
      "outputs": [],
      "source": [
        "from sklearn.model_selection import train_test_split\n",
        "\n",
        "train,test = train_test_split(df_review_bal,test_size =0.33,random_state=42)"
      ]
    },
    {
      "cell_type": "code",
      "execution_count": 8,
      "id": "44ca4804",
      "metadata": {
        "execution": {
          "iopub.execute_input": "2022-03-15T05:15:19.330810Z",
          "iopub.status.busy": "2022-03-15T05:15:19.329927Z",
          "iopub.status.idle": "2022-03-15T05:15:19.334185Z",
          "shell.execute_reply": "2022-03-15T05:15:19.334621Z",
          "shell.execute_reply.started": "2022-03-15T05:13:00.457989Z"
        },
        "papermill": {
          "duration": 0.039134,
          "end_time": "2022-03-15T05:15:19.334778",
          "exception": false,
          "start_time": "2022-03-15T05:15:19.295644",
          "status": "completed"
        },
        "tags": [],
        "id": "44ca4804"
      },
      "outputs": [],
      "source": [
        "train_x, train_y = train['review'], train['sentiment']\n",
        "test_x, test_y = test['review'], test['sentiment']"
      ]
    },
    {
      "cell_type": "code",
      "execution_count": 9,
      "id": "3c6a4c66",
      "metadata": {
        "execution": {
          "iopub.execute_input": "2022-03-15T05:15:19.400656Z",
          "iopub.status.busy": "2022-03-15T05:15:19.399742Z",
          "iopub.status.idle": "2022-03-15T05:15:19.408086Z",
          "shell.execute_reply": "2022-03-15T05:15:19.408526Z",
          "shell.execute_reply.started": "2022-03-15T05:13:00.469297Z"
        },
        "papermill": {
          "duration": 0.043005,
          "end_time": "2022-03-15T05:15:19.408686",
          "exception": false,
          "start_time": "2022-03-15T05:15:19.365681",
          "status": "completed"
        },
        "tags": [],
        "colab": {
          "base_uri": "https://localhost:8080/"
        },
        "id": "3c6a4c66",
        "outputId": "6f5205d1-a55f-44fd-c41a-d921d83e0122"
      },
      "outputs": [
        {
          "output_type": "execute_result",
          "data": {
            "text/plain": [
              "negative    1\n",
              "positive    1\n",
              "Name: sentiment, dtype: int64"
            ]
          },
          "metadata": {},
          "execution_count": 9
        }
      ],
      "source": [
        "train_y.value_counts()"
      ]
    },
    {
      "cell_type": "markdown",
      "id": "17ffb83c",
      "metadata": {
        "papermill": {
          "duration": 0.031909,
          "end_time": "2022-03-15T05:15:19.471693",
          "exception": false,
          "start_time": "2022-03-15T05:15:19.439784",
          "status": "completed"
        },
        "tags": [],
        "id": "17ffb83c"
      },
      "source": [
        "\n",
        "# 3.Text Representation (Bag of words)\n"
      ]
    },
    {
      "cell_type": "code",
      "execution_count": 10,
      "id": "a6b4b597",
      "metadata": {
        "execution": {
          "iopub.execute_input": "2022-03-15T05:15:19.663843Z",
          "iopub.status.busy": "2022-03-15T05:15:19.662933Z",
          "iopub.status.idle": "2022-03-15T05:15:20.019802Z",
          "shell.execute_reply": "2022-03-15T05:15:20.020330Z",
          "shell.execute_reply.started": "2022-03-15T05:13:00.486464Z"
        },
        "papermill": {
          "duration": 0.391793,
          "end_time": "2022-03-15T05:15:20.020575",
          "exception": false,
          "start_time": "2022-03-15T05:15:19.628782",
          "status": "completed"
        },
        "tags": [],
        "id": "a6b4b597"
      },
      "outputs": [],
      "source": [
        "from sklearn.feature_extraction.text import CountVectorizer\n",
        "from sklearn.feature_extraction.text import TfidfTransformer, TfidfVectorizer\n",
        "from sklearn.pipeline import Pipeline"
      ]
    },
    {
      "cell_type": "code",
      "source": [
        "vectorizer = CountVectorizer()\n",
        "X = vectorizer.fit_transform(df_review)"
      ],
      "metadata": {
        "id": "xj3S3DR0P2Z8"
      },
      "id": "xj3S3DR0P2Z8",
      "execution_count": 21,
      "outputs": []
    },
    {
      "cell_type": "code",
      "source": [
        "vectorizer.get_feature_names_out()"
      ],
      "metadata": {
        "colab": {
          "base_uri": "https://localhost:8080/"
        },
        "id": "XZTPPAyNQOMS",
        "outputId": "46691f5b-ab94-47d2-b932-ff185b95b5bc"
      },
      "id": "XZTPPAyNQOMS",
      "execution_count": 22,
      "outputs": [
        {
          "output_type": "execute_result",
          "data": {
            "text/plain": [
              "array(['review', 'sentiment'], dtype=object)"
            ]
          },
          "metadata": {},
          "execution_count": 22
        }
      ]
    },
    {
      "cell_type": "code",
      "source": [
        "print(X.toarray())"
      ],
      "metadata": {
        "colab": {
          "base_uri": "https://localhost:8080/"
        },
        "id": "YnNtrIxMQScq",
        "outputId": "e056c70a-a3d1-40f6-90da-e1a870ad3118"
      },
      "id": "YnNtrIxMQScq",
      "execution_count": 23,
      "outputs": [
        {
          "output_type": "stream",
          "name": "stdout",
          "text": [
            "[[1 0]\n",
            " [0 1]]\n"
          ]
        }
      ]
    },
    {
      "cell_type": "code",
      "source": [
        "vectorizer2 = CountVectorizer(analyzer='word', ngram_range=(1, 10))  #‘word’, ‘char’, ‘char_wb’\n",
        "X2 = vectorizer2.fit_transform(df_review)"
      ],
      "metadata": {
        "id": "pC4qB2TsQV7R"
      },
      "id": "pC4qB2TsQV7R",
      "execution_count": 24,
      "outputs": []
    },
    {
      "cell_type": "code",
      "source": [
        "vectorizer2.get_feature_names_out()"
      ],
      "metadata": {
        "colab": {
          "base_uri": "https://localhost:8080/"
        },
        "id": "WKzwSkK1QdkW",
        "outputId": "571bd862-8b1f-456a-da30-e954aed760e5"
      },
      "id": "WKzwSkK1QdkW",
      "execution_count": 25,
      "outputs": [
        {
          "output_type": "execute_result",
          "data": {
            "text/plain": [
              "array(['review', 'sentiment'], dtype=object)"
            ]
          },
          "metadata": {},
          "execution_count": 25
        }
      ]
    },
    {
      "cell_type": "code",
      "source": [
        "print(X2.toarray())"
      ],
      "metadata": {
        "colab": {
          "base_uri": "https://localhost:8080/"
        },
        "id": "M3UDh_zzQrZx",
        "outputId": "34193984-a06f-42d3-9e12-3eb8e0014d66"
      },
      "id": "M3UDh_zzQrZx",
      "execution_count": 26,
      "outputs": [
        {
          "output_type": "stream",
          "name": "stdout",
          "text": [
            "[[1 0]\n",
            " [0 1]]\n"
          ]
        }
      ]
    },
    {
      "cell_type": "code",
      "execution_count": null,
      "metadata": {
        "execution": {
          "iopub.execute_input": "2022-03-15T05:15:19.122162Z",
          "iopub.status.busy": "2022-03-15T05:15:19.121592Z",
          "iopub.status.idle": "2022-03-15T05:15:19.128592Z",
          "shell.execute_reply": "2022-03-15T05:15:19.129169Z",
          "shell.execute_reply.started": "2022-03-15T05:13:00.437822Z"
        },
        "papermill": {
          "duration": 0.043514,
          "end_time": "2022-03-15T05:15:19.129336",
          "exception": false,
          "start_time": "2022-03-15T05:15:19.085822",
          "status": "completed"
        },
        "tags": [],
        "colab": {
          "base_uri": "https://localhost:8080/"
        },
        "outputId": "09a1b70a-4d15-443a-ed4c-6259466b3551",
        "id": "qJ00SpJgLDNV"
      },
      "outputs": [
        {
          "output_type": "stream",
          "name": "stdout",
          "text": [
            "sentiment\n",
            "negative    5\n",
            "positive    2\n",
            "dtype: int64\n",
            "sentiment\n",
            "negative    2\n",
            "positive    2\n",
            "dtype: int64\n"
          ]
        }
      ],
      "source": [
        "print(df_review_imb.value_counts('sentiment'))\n",
        "print(df_review_bal.value_counts('sentiment'))"
      ],
      "id": "qJ00SpJgLDNV"
    },
    {
      "cell_type": "markdown",
      "source": [
        "SPACY"
      ],
      "metadata": {
        "id": "BWCHmWo4Mvzr"
      },
      "id": "BWCHmWo4Mvzr"
    },
    {
      "cell_type": "code",
      "source": [
        "!pip install -U spacy"
      ],
      "metadata": {
        "colab": {
          "base_uri": "https://localhost:8080/"
        },
        "id": "GdtJuYkW2En7",
        "outputId": "fbf368b3-6807-4c09-9ebe-525a3d6bf4b0"
      },
      "execution_count": 34,
      "outputs": [
        {
          "output_type": "stream",
          "name": "stdout",
          "text": [
            "Looking in indexes: https://pypi.org/simple, https://us-python.pkg.dev/colab-wheels/public/simple/\n",
            "Requirement already satisfied: spacy in /usr/local/lib/python3.10/dist-packages (3.5.2)\n",
            "Collecting spacy\n",
            "  Downloading spacy-3.5.3-cp310-cp310-manylinux_2_17_x86_64.manylinux2014_x86_64.whl (6.6 MB)\n",
            "\u001b[2K     \u001b[90m━━━━━━━━━━━━━━━━━━━━━━━━━━━━━━━━━━━━━━━━\u001b[0m \u001b[32m6.6/6.6 MB\u001b[0m \u001b[31m59.3 MB/s\u001b[0m eta \u001b[36m0:00:00\u001b[0m\n",
            "\u001b[?25hRequirement already satisfied: spacy-legacy<3.1.0,>=3.0.11 in /usr/local/lib/python3.10/dist-packages (from spacy) (3.0.12)\n",
            "Requirement already satisfied: spacy-loggers<2.0.0,>=1.0.0 in /usr/local/lib/python3.10/dist-packages (from spacy) (1.0.4)\n",
            "Requirement already satisfied: murmurhash<1.1.0,>=0.28.0 in /usr/local/lib/python3.10/dist-packages (from spacy) (1.0.9)\n",
            "Requirement already satisfied: cymem<2.1.0,>=2.0.2 in /usr/local/lib/python3.10/dist-packages (from spacy) (2.0.7)\n",
            "Requirement already satisfied: preshed<3.1.0,>=3.0.2 in /usr/local/lib/python3.10/dist-packages (from spacy) (3.0.8)\n",
            "Requirement already satisfied: thinc<8.2.0,>=8.1.8 in /usr/local/lib/python3.10/dist-packages (from spacy) (8.1.9)\n",
            "Requirement already satisfied: wasabi<1.2.0,>=0.9.1 in /usr/local/lib/python3.10/dist-packages (from spacy) (1.1.1)\n",
            "Requirement already satisfied: srsly<3.0.0,>=2.4.3 in /usr/local/lib/python3.10/dist-packages (from spacy) (2.4.6)\n",
            "Requirement already satisfied: catalogue<2.1.0,>=2.0.6 in /usr/local/lib/python3.10/dist-packages (from spacy) (2.0.8)\n",
            "Requirement already satisfied: typer<0.8.0,>=0.3.0 in /usr/local/lib/python3.10/dist-packages (from spacy) (0.7.0)\n",
            "Requirement already satisfied: pathy>=0.10.0 in /usr/local/lib/python3.10/dist-packages (from spacy) (0.10.1)\n",
            "Requirement already satisfied: smart-open<7.0.0,>=5.2.1 in /usr/local/lib/python3.10/dist-packages (from spacy) (6.3.0)\n",
            "Requirement already satisfied: tqdm<5.0.0,>=4.38.0 in /usr/local/lib/python3.10/dist-packages (from spacy) (4.65.0)\n",
            "Requirement already satisfied: numpy>=1.15.0 in /usr/local/lib/python3.10/dist-packages (from spacy) (1.22.4)\n",
            "Requirement already satisfied: requests<3.0.0,>=2.13.0 in /usr/local/lib/python3.10/dist-packages (from spacy) (2.27.1)\n",
            "Requirement already satisfied: pydantic!=1.8,!=1.8.1,<1.11.0,>=1.7.4 in /usr/local/lib/python3.10/dist-packages (from spacy) (1.10.7)\n",
            "Requirement already satisfied: jinja2 in /usr/local/lib/python3.10/dist-packages (from spacy) (3.1.2)\n",
            "Requirement already satisfied: setuptools in /usr/local/lib/python3.10/dist-packages (from spacy) (67.7.2)\n",
            "Requirement already satisfied: packaging>=20.0 in /usr/local/lib/python3.10/dist-packages (from spacy) (23.1)\n",
            "Requirement already satisfied: langcodes<4.0.0,>=3.2.0 in /usr/local/lib/python3.10/dist-packages (from spacy) (3.3.0)\n",
            "Requirement already satisfied: typing-extensions>=4.2.0 in /usr/local/lib/python3.10/dist-packages (from pydantic!=1.8,!=1.8.1,<1.11.0,>=1.7.4->spacy) (4.5.0)\n",
            "Requirement already satisfied: urllib3<1.27,>=1.21.1 in /usr/local/lib/python3.10/dist-packages (from requests<3.0.0,>=2.13.0->spacy) (1.26.15)\n",
            "Requirement already satisfied: certifi>=2017.4.17 in /usr/local/lib/python3.10/dist-packages (from requests<3.0.0,>=2.13.0->spacy) (2022.12.7)\n",
            "Requirement already satisfied: charset-normalizer~=2.0.0 in /usr/local/lib/python3.10/dist-packages (from requests<3.0.0,>=2.13.0->spacy) (2.0.12)\n",
            "Requirement already satisfied: idna<4,>=2.5 in /usr/local/lib/python3.10/dist-packages (from requests<3.0.0,>=2.13.0->spacy) (3.4)\n",
            "Requirement already satisfied: blis<0.8.0,>=0.7.8 in /usr/local/lib/python3.10/dist-packages (from thinc<8.2.0,>=8.1.8->spacy) (0.7.9)\n",
            "Requirement already satisfied: confection<1.0.0,>=0.0.1 in /usr/local/lib/python3.10/dist-packages (from thinc<8.2.0,>=8.1.8->spacy) (0.0.4)\n",
            "Requirement already satisfied: click<9.0.0,>=7.1.1 in /usr/local/lib/python3.10/dist-packages (from typer<0.8.0,>=0.3.0->spacy) (8.1.3)\n",
            "Requirement already satisfied: MarkupSafe>=2.0 in /usr/local/lib/python3.10/dist-packages (from jinja2->spacy) (2.1.2)\n",
            "Installing collected packages: spacy\n",
            "  Attempting uninstall: spacy\n",
            "    Found existing installation: spacy 3.5.2\n",
            "    Uninstalling spacy-3.5.2:\n",
            "      Successfully uninstalled spacy-3.5.2\n",
            "Successfully installed spacy-3.5.3\n"
          ]
        }
      ],
      "id": "GdtJuYkW2En7"
    },
    {
      "cell_type": "code",
      "source": [
        "import spacy\n",
        "from spacy import displacy"
      ],
      "metadata": {
        "id": "eIDQHVrZMukg"
      },
      "id": "eIDQHVrZMukg",
      "execution_count": 35,
      "outputs": []
    },
    {
      "cell_type": "code",
      "source": [
        "spacy.prefer_gpu()\n",
        "nlp = spacy.load(\"en_core_web_sm\")"
      ],
      "metadata": {
        "id": "eNV05anc23fi"
      },
      "execution_count": 40,
      "outputs": [],
      "id": "eNV05anc23fi"
    },
    {
      "cell_type": "code",
      "source": [
        "doc = nlp('IMDB Dataset is about reviewing lot of films')"
      ],
      "metadata": {
        "id": "2jxnS78KNfCz"
      },
      "id": "2jxnS78KNfCz",
      "execution_count": 41,
      "outputs": []
    },
    {
      "cell_type": "code",
      "source": [
        "for token in doc:\n",
        "    print(token.text, token.lemma_, token.pos_, token.tag_, token.dep_,\n",
        "            token.shape_, token.is_alpha, token.is_stop)"
      ],
      "metadata": {
        "colab": {
          "base_uri": "https://localhost:8080/"
        },
        "id": "I_yqF7G6NuPx",
        "outputId": "2d0277e7-42e0-4288-9178-e8fd18884d5a"
      },
      "id": "I_yqF7G6NuPx",
      "execution_count": 42,
      "outputs": [
        {
          "output_type": "stream",
          "name": "stdout",
          "text": [
            "IMDB IMDB PROPN NNP compound XXXX True False\n",
            "Dataset Dataset PROPN NNP nsubj Xxxxx True False\n",
            "is be AUX VBZ ROOT xx True True\n",
            "about about ADP IN prep xxxx True True\n",
            "reviewing review VERB VBG pcomp xxxx True False\n",
            "lot lot NOUN NN dobj xxx True False\n",
            "of of ADP IN prep xx True True\n",
            "films film NOUN NNS pobj xxxx True False\n"
          ]
        }
      ]
    },
    {
      "cell_type": "code",
      "source": [
        "displacy.serve(doc, style=\"dep\")"
      ],
      "metadata": {
        "colab": {
          "base_uri": "https://localhost:8080/"
        },
        "id": "ASDvn8EA3OU7",
        "outputId": "c9cc66c2-d0fa-4b90-e69f-e1b621b52241"
      },
      "execution_count": 43,
      "outputs": [
        {
          "output_type": "stream",
          "name": "stdout",
          "text": [
            "\n",
            "Using the 'dep' visualizer\n",
            "Serving on http://0.0.0.0:5000 ...\n",
            "\n",
            "Shutting down server on port 5000.\n"
          ]
        }
      ],
      "id": "ASDvn8EA3OU7"
    },
    {
      "cell_type": "code",
      "source": [
        "from spacy.matcher import Matcher"
      ],
      "metadata": {
        "id": "hcjG6dOh3YEk"
      },
      "execution_count": 44,
      "outputs": [],
      "id": "hcjG6dOh3YEk"
    },
    {
      "cell_type": "code",
      "source": [
        "nlp = spacy.load(\"en_core_web_sm\")\n",
        "matcher = Matcher(nlp.vocab)\n",
        "# Add match ID \"HelloWorld\" with no callback and one pattern\n",
        "pattern = [{\"LOWER\": \"imdb\"}, {\"IS_PUNCT\": True}, {\"LOWER\": \"dataset\"}]\n",
        "matcher.add(\"ImdbDataset\", [pattern])"
      ],
      "metadata": {
        "id": "0hscZ-9L3nwz"
      },
      "execution_count": 59,
      "outputs": [],
      "id": "0hscZ-9L3nwz"
    },
    {
      "cell_type": "code",
      "source": [
        "doc = nlp(\"Imdb, Dataset Imdb Dataset?\")\n",
        "matches = matcher(doc)\n",
        "for match_id, start, end in matches:\n",
        "    string_id = nlp.vocab.strings[match_id]  # Get string representation\n",
        "    span = doc[start:end]  # The matched span\n",
        "    print(match_id, string_id, start, end, span.text)"
      ],
      "metadata": {
        "colab": {
          "base_uri": "https://localhost:8080/"
        },
        "id": "L7XF-5ya3q2k",
        "outputId": "19106fb3-698b-4635-ae9b-49b42f67fb7b"
      },
      "execution_count": 63,
      "outputs": [
        {
          "output_type": "stream",
          "name": "stdout",
          "text": [
            "12754194757763750939 ImdbDataset 0 3 Imdb, Dataset\n"
          ]
        }
      ],
      "id": "L7XF-5ya3q2k"
    }
  ],
  "metadata": {
    "kernelspec": {
      "display_name": "Python 3",
      "language": "python",
      "name": "python3"
    },
    "language_info": {
      "codemirror_mode": {
        "name": "ipython",
        "version": 3
      },
      "file_extension": ".py",
      "mimetype": "text/x-python",
      "name": "python",
      "nbconvert_exporter": "python",
      "pygments_lexer": "ipython3",
      "version": "3.7.12"
    },
    "papermill": {
      "default_parameters": {},
      "duration": 95.3358,
      "end_time": "2022-03-15T05:16:41.764937",
      "environment_variables": {},
      "exception": null,
      "input_path": "__notebook__.ipynb",
      "output_path": "__notebook__.ipynb",
      "parameters": {},
      "start_time": "2022-03-15T05:15:06.429137",
      "version": "2.3.3"
    },
    "colab": {
      "provenance": []
    }
  },
  "nbformat": 4,
  "nbformat_minor": 5
}