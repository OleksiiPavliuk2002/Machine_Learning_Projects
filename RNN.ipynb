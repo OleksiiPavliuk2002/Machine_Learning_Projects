{
  "nbformat": 4,
  "nbformat_minor": 0,
  "metadata": {
    "colab": {
      "provenance": []
    },
    "kernelspec": {
      "name": "python3",
      "display_name": "Python 3"
    },
    "language_info": {
      "name": "python"
    }
  },
  "cells": [
    {
      "cell_type": "code",
      "execution_count": 1,
      "metadata": {
        "id": "ofOR6zKtaVXj"
      },
      "outputs": [],
      "source": [
        "import numpy as np\n",
        "\n",
        "import tensorflow_datasets as tfds\n",
        "import tensorflow as tf\n",
        "\n",
        "tfds.disable_progress_bar()"
      ]
    },
    {
      "cell_type": "code",
      "source": [
        "import matplotlib.pyplot as plt\n",
        "\n",
        "\n",
        "def plot_graphs(history, metric):\n",
        "  plt.plot(history.history[metric])\n",
        "  plt.plot(history.history['val_'+metric], '')\n",
        "  plt.xlabel(\"Epochs\")\n",
        "  plt.ylabel(metric)\n",
        "  plt.legend([metric, 'val_'+metric])"
      ],
      "metadata": {
        "id": "qck8zLDzadBi"
      },
      "execution_count": 2,
      "outputs": []
    },
    {
      "cell_type": "code",
      "source": [
        "dataset, info = tfds.load('imdb_reviews', with_info=True,\n",
        "                          as_supervised=True)\n",
        "train_dataset, test_dataset = dataset['train'], dataset['test']\n",
        "\n",
        "train_dataset.element_spec"
      ],
      "metadata": {
        "colab": {
          "base_uri": "https://localhost:8080/"
        },
        "id": "bMDn-adOahrW",
        "outputId": "5968a631-eac3-4482-8b7e-bd6278a17d5f"
      },
      "execution_count": 3,
      "outputs": [
        {
          "output_type": "stream",
          "name": "stdout",
          "text": [
            "Downloading and preparing dataset 80.23 MiB (download: 80.23 MiB, generated: Unknown size, total: 80.23 MiB) to /root/tensorflow_datasets/imdb_reviews/plain_text/1.0.0...\n",
            "Dataset imdb_reviews downloaded and prepared to /root/tensorflow_datasets/imdb_reviews/plain_text/1.0.0. Subsequent calls will reuse this data.\n"
          ]
        },
        {
          "output_type": "execute_result",
          "data": {
            "text/plain": [
              "(TensorSpec(shape=(), dtype=tf.string, name=None),\n",
              " TensorSpec(shape=(), dtype=tf.int64, name=None))"
            ]
          },
          "metadata": {},
          "execution_count": 3
        }
      ]
    },
    {
      "cell_type": "code",
      "source": [
        "for example, label in train_dataset.take(1):\n",
        "  print('text: ', example.numpy())\n",
        "  print('label: ', label.numpy())"
      ],
      "metadata": {
        "colab": {
          "base_uri": "https://localhost:8080/"
        },
        "id": "vAs_pv5ubmox",
        "outputId": "2fd560b0-7df7-435e-a96f-078ea1549d2a"
      },
      "execution_count": 4,
      "outputs": [
        {
          "output_type": "stream",
          "name": "stdout",
          "text": [
            "text:  b\"This was an absolutely terrible movie. Don't be lured in by Christopher Walken or Michael Ironside. Both are great actors, but this must simply be their worst role in history. Even their great acting could not redeem this movie's ridiculous storyline. This movie is an early nineties US propaganda piece. The most pathetic scenes were those when the Columbian rebels were making their cases for revolutions. Maria Conchita Alonso appeared phony, and her pseudo-love affair with Walken was nothing but a pathetic emotional plug in a movie that was devoid of any real meaning. I am disappointed that there are movies like this, ruining actor's like Christopher Walken's good name. I could barely sit through it.\"\n",
            "label:  0\n"
          ]
        }
      ]
    },
    {
      "cell_type": "code",
      "source": [
        "BUFFER_SIZE = 10000\n",
        "BATCH_SIZE = 64\n",
        "train_dataset = train_dataset.shuffle(BUFFER_SIZE).batch(BATCH_SIZE).prefetch(tf.data.AUTOTUNE)\n",
        "test_dataset = test_dataset.batch(BATCH_SIZE).prefetch(tf.data.AUTOTUNE)\n",
        "for example, label in train_dataset.take(1):\n",
        "  print('texts: ', example.numpy()[:3])\n",
        "  print()\n",
        "  print('labels: ', label.numpy()[:3])"
      ],
      "metadata": {
        "colab": {
          "base_uri": "https://localhost:8080/"
        },
        "id": "LgZHR9r5bp4P",
        "outputId": "b9a2f7e1-3785-4ed3-dde5-032cee28b747"
      },
      "execution_count": 5,
      "outputs": [
        {
          "output_type": "stream",
          "name": "stdout",
          "text": [
            "texts:  [b\"Simply not the quality I expected from Morris (love Brass Eye and Blue Jam). This is very much like a not so bad student film. What concerns me, in all this is WHY DID IT WIN A BAFTA??? Morris makes fun of 'enshrined mediocrity' (Ayn Rand) in much of his work (Nathan Barley) and yet with this piece is urinating down the backs of the talented and telling us its raining! <br /><br />I just hope as he has chosen a subject I would love to tackle (the humanity of terrorism - Four Lions) that he isn't going to cock that up, wasting the opportunity to make a statement about the farce of mainstream ignorance and opinion on this emotive and heavily spun phenomena.\"\n",
            " b'It is very hard to rate this film. As entertainment value for 21st century viewers, it fails miserably. However, for the student of early sound films and history, it is a jewel. \"Show of Shows\" was a revue filmed to compete with MGM\\'s successful \"Hollywood Revue of 1929\", which still survives intact complete with its Technicolor scenes.<br /><br />The purpose of the all-star revue was to showcase a particular studio\\'s silent stars in speaking roles, and show that they could make the transition. However, Warner Bros. seems to have forgotten this and employs many acts and stars that they didn\\'t even have under long-term contract such as Ben Turpin, Lloyd Hamilton, Beatrice Lillie, and even a marching band. Meanwhile, their biggest talent - Al Jolson - is noticeably absent. Even at a high salary he could not be compelled to join in. Almost every act is overly long and the film plays like a dozen or so Vitaphone shorts strung together with no continuity. The finale is also overly long, but it is really enjoyable with all of its dance numbers.<br /><br />The highlights of the film are two numbers from Winnie Lightner - \"Pingo Pongo\" and \"Singin in the Bathtub\", a couple of numbers with Nick Lucas, John Barrymore performing Shakespeare, and the Chinese Fantasy \"Li Po Li\" with Nick Lucas and Myrna Loy. This last number is the only part of the film that survives in Technicolor, and it really is quite attractive. Reasonably enough, the players in these good acts were long-term Warner Bros. stars so perhaps the director knew how to play to their strengths since he was familiar with them.<br /><br />This film acts as a snapshot at an odd point in film history - the year 1929, which was the bridge year between two eras - the silent and sound eras, and the roaring 20\\'s and the Great Depression. Just two years later this same film would have had an entirely different cast, as Warner Bros. would abandon its silent era stars and the stars they hired just to produce the early musicals in favor of those stars that gave Warner Bros. its distinctive urban look and feel - James Cagney, Joan Blondell, Edward G. Robinson, and others.'\n",
            " b'What is \"Cry Freedom\" like? It is simply great and unique experience about making of South Africa and how black people in that country were repressed by white people. Main character of the story is Donald Woods (Kevin Kline), chief editor of the newspaper Daily Dispatch in South Africa. Woods writes several articles, where he speaks critically about views of Steve Biko (Denzel Washington). Soon Woods meets Biko and he changes his views about him and he also begins to understand what authorities are doing to black people in South Africa (right from the top, even from the chief of police). When Biko dies in police custody, Woods decides that he have to write book about him and that no matter what he has to publish it. But Woods must escape from his country to get that book published and he must also put his family on second place, so world can find out the truth.<br /><br />Attenborough managed to make a good movie about people, with main message that black and white are the same, cause we are all people. Story leads us to South Africa and this (movie) is great way for the whole world to learn what happened in that land and I\\'m disappointed that only 3200 people rated this movie. This is movie from which we all can learn something. Although it is a bit long, this story couldn\\'t be presented in any shorter way because director wanted to show us how hard was for Woods to get that book published after death of Biko. <br /><br />Also relationship between Woods and Biko was shown great, just like families of those two people and all the problems they are going through. But sometimes sacrifices must be made (Biko\\'s death) so the truth could be reveled (Woods book).']\n",
            "\n",
            "labels:  [0 1 1]\n"
          ]
        }
      ]
    },
    {
      "cell_type": "code",
      "source": [
        "VOCAB_SIZE = 1000\n",
        "encoder = tf.keras.layers.TextVectorization(\n",
        "    max_tokens=VOCAB_SIZE)\n",
        "encoder.adapt(train_dataset.map(lambda text, label: text))\n",
        "vocab = np.array(encoder.get_vocabulary())\n",
        "vocab[:20]"
      ],
      "metadata": {
        "colab": {
          "base_uri": "https://localhost:8080/"
        },
        "id": "luXv8xKnbxbu",
        "outputId": "58da7619-99c5-4b7f-d71c-9a99aa4518d9"
      },
      "execution_count": 6,
      "outputs": [
        {
          "output_type": "execute_result",
          "data": {
            "text/plain": [
              "array(['', '[UNK]', 'the', 'and', 'a', 'of', 'to', 'is', 'in', 'it', 'i',\n",
              "       'this', 'that', 'br', 'was', 'as', 'for', 'with', 'movie', 'but'],\n",
              "      dtype='<U14')"
            ]
          },
          "metadata": {},
          "execution_count": 6
        }
      ]
    },
    {
      "cell_type": "code",
      "source": [
        "encoded_example = encoder(example)[:3].numpy()\n",
        "encoded_example"
      ],
      "metadata": {
        "colab": {
          "base_uri": "https://localhost:8080/"
        },
        "id": "_YJpOvt4b5Zx",
        "outputId": "60aa3fbf-69dd-4e5b-a892-1abf0f7c2463"
      },
      "execution_count": 7,
      "outputs": [
        {
          "output_type": "execute_result",
          "data": {
            "text/plain": [
              "array([[316,  22,   2, ...,   0,   0,   0],\n",
              "       [  9,   7,  53, ...,   0,   0,   0],\n",
              "       [ 49,   7,   1, ...,   0,   0,   0]])"
            ]
          },
          "metadata": {},
          "execution_count": 7
        }
      ]
    },
    {
      "cell_type": "code",
      "source": [
        "for n in range(3):\n",
        "  print(\"Original: \", example[n].numpy())\n",
        "  print(\"Round-trip: \", \" \".join(vocab[encoded_example[n]]))\n",
        "  print()"
      ],
      "metadata": {
        "colab": {
          "base_uri": "https://localhost:8080/"
        },
        "id": "VAb-Mr--b6c5",
        "outputId": "dcf9e963-6e63-467e-9eca-4482f5a3e29e"
      },
      "execution_count": 8,
      "outputs": [
        {
          "output_type": "stream",
          "name": "stdout",
          "text": [
            "Original:  b\"Simply not the quality I expected from Morris (love Brass Eye and Blue Jam). This is very much like a not so bad student film. What concerns me, in all this is WHY DID IT WIN A BAFTA??? Morris makes fun of 'enshrined mediocrity' (Ayn Rand) in much of his work (Nathan Barley) and yet with this piece is urinating down the backs of the talented and telling us its raining! <br /><br />I just hope as he has chosen a subject I would love to tackle (the humanity of terrorism - Four Lions) that he isn't going to cock that up, wasting the opportunity to make a statement about the farce of mainstream ignorance and opinion on this emotive and heavily spun phenomena.\"\n",
            "Round-trip:  simply not the quality i expected from [UNK] love [UNK] eye and [UNK] [UNK] this is very much like a not so bad [UNK] film what [UNK] me in all this is why did it [UNK] a [UNK] [UNK] makes fun of [UNK] [UNK] [UNK] [UNK] in much of his work [UNK] [UNK] and yet with this piece is [UNK] down the [UNK] of the [UNK] and [UNK] us its [UNK] br br i just hope as he has [UNK] a subject i would love to [UNK] the [UNK] of [UNK] four [UNK] that he isnt going to [UNK] that up [UNK] the [UNK] to make a [UNK] about the [UNK] of [UNK] [UNK] and opinion on this [UNK] and [UNK] [UNK] [UNK]                                                                                                                                                                                                                                                                                                                                                                                                                                                                                                                                                                                                                                                                                                                                                                                                                                                                         \n",
            "\n",
            "Original:  b'It is very hard to rate this film. As entertainment value for 21st century viewers, it fails miserably. However, for the student of early sound films and history, it is a jewel. \"Show of Shows\" was a revue filmed to compete with MGM\\'s successful \"Hollywood Revue of 1929\", which still survives intact complete with its Technicolor scenes.<br /><br />The purpose of the all-star revue was to showcase a particular studio\\'s silent stars in speaking roles, and show that they could make the transition. However, Warner Bros. seems to have forgotten this and employs many acts and stars that they didn\\'t even have under long-term contract such as Ben Turpin, Lloyd Hamilton, Beatrice Lillie, and even a marching band. Meanwhile, their biggest talent - Al Jolson - is noticeably absent. Even at a high salary he could not be compelled to join in. Almost every act is overly long and the film plays like a dozen or so Vitaphone shorts strung together with no continuity. The finale is also overly long, but it is really enjoyable with all of its dance numbers.<br /><br />The highlights of the film are two numbers from Winnie Lightner - \"Pingo Pongo\" and \"Singin in the Bathtub\", a couple of numbers with Nick Lucas, John Barrymore performing Shakespeare, and the Chinese Fantasy \"Li Po Li\" with Nick Lucas and Myrna Loy. This last number is the only part of the film that survives in Technicolor, and it really is quite attractive. Reasonably enough, the players in these good acts were long-term Warner Bros. stars so perhaps the director knew how to play to their strengths since he was familiar with them.<br /><br />This film acts as a snapshot at an odd point in film history - the year 1929, which was the bridge year between two eras - the silent and sound eras, and the roaring 20\\'s and the Great Depression. Just two years later this same film would have had an entirely different cast, as Warner Bros. would abandon its silent era stars and the stars they hired just to produce the early musicals in favor of those stars that gave Warner Bros. its distinctive urban look and feel - James Cagney, Joan Blondell, Edward G. Robinson, and others.'\n",
            "Round-trip:  it is very hard to [UNK] this film as entertainment [UNK] for [UNK] [UNK] viewers it fails [UNK] however for the [UNK] of early sound films and history it is a [UNK] show of shows was a [UNK] filmed to [UNK] with [UNK] [UNK] hollywood [UNK] of [UNK] which still [UNK] [UNK] complete with its [UNK] [UNK] br the [UNK] of the [UNK] [UNK] was to [UNK] a particular [UNK] [UNK] stars in [UNK] roles and show that they could make the [UNK] however [UNK] [UNK] seems to have [UNK] this and [UNK] many [UNK] and stars that they didnt even have under [UNK] [UNK] such as [UNK] [UNK] [UNK] [UNK] [UNK] [UNK] and even a [UNK] [UNK] [UNK] their [UNK] talent [UNK] [UNK] is [UNK] [UNK] even at a high [UNK] he could not be [UNK] to [UNK] in almost every act is [UNK] long and the film plays like a [UNK] or so [UNK] [UNK] [UNK] together with no [UNK] the [UNK] is also [UNK] long but it is really enjoyable with all of its dance [UNK] br the [UNK] of the film are two [UNK] from [UNK] [UNK] [UNK] [UNK] and [UNK] in the [UNK] a couple of [UNK] with [UNK] [UNK] john [UNK] [UNK] [UNK] and the [UNK] fantasy [UNK] [UNK] [UNK] with [UNK] [UNK] and [UNK] [UNK] this last number is the only part of the film that [UNK] in [UNK] and it really is quite [UNK] [UNK] enough the [UNK] in these good [UNK] were [UNK] [UNK] [UNK] stars so perhaps the director knew how to play to their [UNK] since he was [UNK] with [UNK] br this film [UNK] as a [UNK] at an [UNK] point in film history the year [UNK] which was the [UNK] year between two [UNK] the [UNK] and sound [UNK] and the [UNK] [UNK] and the great [UNK] just two years later this same film would have had an [UNK] different cast as [UNK] [UNK] would [UNK] its [UNK] [UNK] stars and the stars they [UNK] just to [UNK] the early [UNK] in [UNK] of those stars that gave [UNK] [UNK] its [UNK] [UNK] look and feel james [UNK] [UNK] [UNK] [UNK] [UNK] [UNK] and others                                                                                                                                                                                                                                                                                                                                                                                                                                                                                                                                                                                                                    \n",
            "\n",
            "Original:  b'What is \"Cry Freedom\" like? It is simply great and unique experience about making of South Africa and how black people in that country were repressed by white people. Main character of the story is Donald Woods (Kevin Kline), chief editor of the newspaper Daily Dispatch in South Africa. Woods writes several articles, where he speaks critically about views of Steve Biko (Denzel Washington). Soon Woods meets Biko and he changes his views about him and he also begins to understand what authorities are doing to black people in South Africa (right from the top, even from the chief of police). When Biko dies in police custody, Woods decides that he have to write book about him and that no matter what he has to publish it. But Woods must escape from his country to get that book published and he must also put his family on second place, so world can find out the truth.<br /><br />Attenborough managed to make a good movie about people, with main message that black and white are the same, cause we are all people. Story leads us to South Africa and this (movie) is great way for the whole world to learn what happened in that land and I\\'m disappointed that only 3200 people rated this movie. This is movie from which we all can learn something. Although it is a bit long, this story couldn\\'t be presented in any shorter way because director wanted to show us how hard was for Woods to get that book published after death of Biko. <br /><br />Also relationship between Woods and Biko was shown great, just like families of those two people and all the problems they are going through. But sometimes sacrifices must be made (Biko\\'s death) so the truth could be reveled (Woods book).'\n",
            "Round-trip:  what is [UNK] [UNK] like it is simply great and unique experience about making of [UNK] [UNK] and how black people in that country were [UNK] by white people main character of the story is [UNK] [UNK] [UNK] [UNK] [UNK] [UNK] of the [UNK] [UNK] [UNK] in [UNK] [UNK] [UNK] [UNK] several [UNK] where he [UNK] [UNK] about [UNK] of [UNK] [UNK] [UNK] [UNK] soon [UNK] meets [UNK] and he [UNK] his [UNK] about him and he also begins to understand what [UNK] are doing to black people in [UNK] [UNK] right from the top even from the [UNK] of police when [UNK] [UNK] in police [UNK] [UNK] [UNK] that he have to write book about him and that no matter what he has to [UNK] it but [UNK] must [UNK] from his country to get that book [UNK] and he must also put his family on second place so world can find out the [UNK] br [UNK] [UNK] to make a good movie about people with main message that black and white are the same [UNK] we are all people story leads us to [UNK] [UNK] and this movie is great way for the whole world to learn what happened in that [UNK] and im disappointed that only [UNK] people [UNK] this movie this is movie from which we all can learn something although it is a bit long this story couldnt be [UNK] in any [UNK] way because director wanted to show us how hard was for [UNK] to get that book [UNK] after death of [UNK] br br also relationship between [UNK] and [UNK] was shown great just like [UNK] of those two people and all the problems they are going through but sometimes [UNK] must be made [UNK] death so the truth could be [UNK] [UNK] book                                                                                                                                                                                                                                                                                                                                                                                                                                                                                                                                                                                                                                                                                       \n",
            "\n"
          ]
        }
      ]
    },
    {
      "cell_type": "markdown",
      "source": [
        "Model"
      ],
      "metadata": {
        "id": "YUyut8gicAGg"
      }
    },
    {
      "cell_type": "code",
      "source": [
        "model = tf.keras.Sequential([\n",
        "    encoder,\n",
        "    tf.keras.layers.Embedding(\n",
        "        input_dim=len(encoder.get_vocabulary()),\n",
        "        output_dim=64,\n",
        "        # Use masking to handle the variable sequence lengths\n",
        "        mask_zero=True),\n",
        "    tf.keras.layers.Bidirectional(tf.keras.layers.LSTM(64)),\n",
        "    tf.keras.layers.Dense(64, activation='relu'),\n",
        "    tf.keras.layers.Dense(1)\n",
        "])"
      ],
      "metadata": {
        "id": "RrIJJOqFb_rR"
      },
      "execution_count": 10,
      "outputs": []
    },
    {
      "cell_type": "code",
      "source": [
        "print([layer.supports_masking for layer in model.layers])"
      ],
      "metadata": {
        "colab": {
          "base_uri": "https://localhost:8080/"
        },
        "id": "it5dG4aMcQTR",
        "outputId": "cc5dbbff-7559-4b91-9ac5-02b28495c72c"
      },
      "execution_count": 11,
      "outputs": [
        {
          "output_type": "stream",
          "name": "stdout",
          "text": [
            "[False, True, True, True, True]\n"
          ]
        }
      ]
    },
    {
      "cell_type": "code",
      "source": [
        "# predict on a sample text without padding.\n",
        "\n",
        "sample_text = ('The movie was cool. The animation and the graphics '\n",
        "               'were out of this world. I would recommend this movie.')\n",
        "predictions = model.predict(np.array([sample_text]))\n",
        "print(predictions[0])"
      ],
      "metadata": {
        "colab": {
          "base_uri": "https://localhost:8080/"
        },
        "id": "W3pzi6eNcTRi",
        "outputId": "ca6ff6d9-bcb2-4232-f639-8b07d71b4b70"
      },
      "execution_count": 12,
      "outputs": [
        {
          "output_type": "stream",
          "name": "stdout",
          "text": [
            "1/1 [==============================] - 10s 10s/step\n",
            "[-0.0119229]\n"
          ]
        }
      ]
    },
    {
      "cell_type": "code",
      "source": [
        "# predict on a sample text with padding\n",
        "\n",
        "padding = \"the \" * 2000\n",
        "predictions = model.predict(np.array([sample_text, padding]))\n",
        "print(predictions[0])"
      ],
      "metadata": {
        "colab": {
          "base_uri": "https://localhost:8080/"
        },
        "id": "oZ2UpH3Lcb9c",
        "outputId": "d6111177-2bd9-43cc-a345-9c6baee37b8f"
      },
      "execution_count": 13,
      "outputs": [
        {
          "output_type": "stream",
          "name": "stdout",
          "text": [
            "1/1 [==============================] - 1s 694ms/step\n",
            "[-0.0119229]\n"
          ]
        }
      ]
    },
    {
      "cell_type": "code",
      "source": [
        "model.compile(loss=tf.keras.losses.BinaryCrossentropy(from_logits=True),\n",
        "              optimizer=tf.keras.optimizers.Adam(1e-4),\n",
        "              metrics=['accuracy'])"
      ],
      "metadata": {
        "id": "OmOztlgDcgJb"
      },
      "execution_count": 14,
      "outputs": []
    },
    {
      "cell_type": "code",
      "source": [
        "history = model.fit(train_dataset, epochs=10,\n",
        "                    validation_data=test_dataset,\n",
        "                    validation_steps=30)"
      ],
      "metadata": {
        "colab": {
          "base_uri": "https://localhost:8080/"
        },
        "id": "PQKwredNcigA",
        "outputId": "e83fd61f-0cfd-4bff-878f-debdb93f15bf"
      },
      "execution_count": 15,
      "outputs": [
        {
          "output_type": "stream",
          "name": "stdout",
          "text": [
            "Epoch 1/10\n",
            "391/391 [==============================] - 804s 2s/step - loss: 0.6402 - accuracy: 0.5646 - val_loss: 0.4893 - val_accuracy: 0.7531\n",
            "Epoch 2/10\n",
            "391/391 [==============================] - 776s 2s/step - loss: 0.4450 - accuracy: 0.7872 - val_loss: 0.3869 - val_accuracy: 0.8208\n",
            "Epoch 3/10\n",
            "391/391 [==============================] - 788s 2s/step - loss: 0.3571 - accuracy: 0.8430 - val_loss: 0.3692 - val_accuracy: 0.8490\n",
            "Epoch 4/10\n",
            "391/391 [==============================] - 780s 2s/step - loss: 0.3306 - accuracy: 0.8590 - val_loss: 0.3578 - val_accuracy: 0.8604\n",
            "Epoch 5/10\n",
            "391/391 [==============================] - 784s 2s/step - loss: 0.3179 - accuracy: 0.8632 - val_loss: 0.3321 - val_accuracy: 0.8568\n",
            "Epoch 6/10\n",
            "391/391 [==============================] - 766s 2s/step - loss: 0.3101 - accuracy: 0.8696 - val_loss: 0.3315 - val_accuracy: 0.8620\n",
            "Epoch 7/10\n",
            "391/391 [==============================] - 772s 2s/step - loss: 0.3059 - accuracy: 0.8680 - val_loss: 0.3269 - val_accuracy: 0.8583\n",
            "Epoch 8/10\n",
            "391/391 [==============================] - 778s 2s/step - loss: 0.3017 - accuracy: 0.8703 - val_loss: 0.3298 - val_accuracy: 0.8589\n",
            "Epoch 9/10\n",
            "391/391 [==============================] - 773s 2s/step - loss: 0.2992 - accuracy: 0.8728 - val_loss: 0.3213 - val_accuracy: 0.8615\n",
            "Epoch 10/10\n",
            "391/391 [==============================] - 772s 2s/step - loss: 0.2974 - accuracy: 0.8726 - val_loss: 0.3201 - val_accuracy: 0.8620\n"
          ]
        }
      ]
    },
    {
      "cell_type": "code",
      "source": [
        "test_loss, test_acc = model.evaluate(test_dataset)\n",
        "\n",
        "print('Test Loss:', test_loss)\n",
        "print('Test Accuracy:', test_acc)"
      ],
      "metadata": {
        "colab": {
          "base_uri": "https://localhost:8080/"
        },
        "id": "3rGXxTSx81US",
        "outputId": "05507148-f703-447f-a7ea-cbce3b9d98a1"
      },
      "execution_count": 16,
      "outputs": [
        {
          "output_type": "stream",
          "name": "stdout",
          "text": [
            "391/391 [==============================] - 192s 491ms/step - loss: 0.3159 - accuracy: 0.8611\n",
            "Test Loss: 0.3158654570579529\n",
            "Test Accuracy: 0.8610799908638\n"
          ]
        }
      ]
    },
    {
      "cell_type": "code",
      "source": [
        "plt.figure(figsize=(16, 8))\n",
        "plt.subplot(1, 2, 1)\n",
        "plot_graphs(history, 'accuracy')\n",
        "plt.ylim(None, 1)\n",
        "plt.subplot(1, 2, 2)\n",
        "plot_graphs(history, 'loss')\n",
        "plt.ylim(0, None)"
      ],
      "metadata": {
        "id": "seH8IoIL_N8M",
        "outputId": "5777957a-1abe-4db5-dcdf-c3d9a3f14341",
        "colab": {
          "base_uri": "https://localhost:8080/",
          "height": 683
        }
      },
      "execution_count": 17,
      "outputs": [
        {
          "output_type": "execute_result",
          "data": {
            "text/plain": [
              "(0.0, 0.6573221147060394)"
            ]
          },
          "metadata": {},
          "execution_count": 17
        },
        {
          "output_type": "display_data",
          "data": {
            "text/plain": [
              "<Figure size 1600x800 with 2 Axes>"
            ],
            "image/png": "[encoded data removed]"
          },
          "metadata": {}
        }
      ]
    }
  ]
}